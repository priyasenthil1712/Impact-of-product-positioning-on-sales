{
 "cells": [
  {
   "cell_type": "code",
   "execution_count": null,
   "id": "d5241ffe",
   "metadata": {},
   "outputs": [],
   "source": [
    "Project "
   ]
  },
  {
   "cell_type": "markdown",
   "id": "01209015",
   "metadata": {},
   "source": [
    "# Exploratory data analysis"
   ]
  },
  {
   "cell_type": "code",
   "execution_count": 1,
   "id": "a2eaaf71",
   "metadata": {},
   "outputs": [
    {
     "data": {
      "text/html": [
       "<div>\n",
       "<style scoped>\n",
       "    .dataframe tbody tr th:only-of-type {\n",
       "        vertical-align: middle;\n",
       "    }\n",
       "\n",
       "    .dataframe tbody tr th {\n",
       "        vertical-align: top;\n",
       "    }\n",
       "\n",
       "    .dataframe thead th {\n",
       "        text-align: right;\n",
       "    }\n",
       "</style>\n",
       "<table border=\"1\" class=\"dataframe\">\n",
       "  <thead>\n",
       "    <tr style=\"text-align: right;\">\n",
       "      <th></th>\n",
       "      <th>Product ID</th>\n",
       "      <th>Product Position</th>\n",
       "      <th>Price</th>\n",
       "      <th>Competitor's Price</th>\n",
       "      <th>Promotion</th>\n",
       "      <th>Foot Traffic</th>\n",
       "      <th>Consumer Demographics</th>\n",
       "      <th>Product Category</th>\n",
       "      <th>Seasonal</th>\n",
       "      <th>Sales Volume</th>\n",
       "    </tr>\n",
       "  </thead>\n",
       "  <tbody>\n",
       "    <tr>\n",
       "      <th>0</th>\n",
       "      <td>185102</td>\n",
       "      <td>Aisle</td>\n",
       "      <td>17.07</td>\n",
       "      <td>16.16</td>\n",
       "      <td>No</td>\n",
       "      <td>Medium</td>\n",
       "      <td>Families</td>\n",
       "      <td>Clothing</td>\n",
       "      <td>No</td>\n",
       "      <td>2823</td>\n",
       "    </tr>\n",
       "    <tr>\n",
       "      <th>1</th>\n",
       "      <td>188771</td>\n",
       "      <td>Aisle</td>\n",
       "      <td>17.41</td>\n",
       "      <td>13.13</td>\n",
       "      <td>No</td>\n",
       "      <td>Low</td>\n",
       "      <td>Seniors</td>\n",
       "      <td>Clothing</td>\n",
       "      <td>No</td>\n",
       "      <td>654</td>\n",
       "    </tr>\n",
       "    <tr>\n",
       "      <th>2</th>\n",
       "      <td>180176</td>\n",
       "      <td>End-cap</td>\n",
       "      <td>43.16</td>\n",
       "      <td>38.37</td>\n",
       "      <td>Yes</td>\n",
       "      <td>Medium</td>\n",
       "      <td>Young adults</td>\n",
       "      <td>Electronics</td>\n",
       "      <td>Yes</td>\n",
       "      <td>2220</td>\n",
       "    </tr>\n",
       "    <tr>\n",
       "      <th>3</th>\n",
       "      <td>112917</td>\n",
       "      <td>Aisle</td>\n",
       "      <td>42.26</td>\n",
       "      <td>38.98</td>\n",
       "      <td>Yes</td>\n",
       "      <td>Low</td>\n",
       "      <td>Families</td>\n",
       "      <td>Clothing</td>\n",
       "      <td>Yes</td>\n",
       "      <td>1568</td>\n",
       "    </tr>\n",
       "    <tr>\n",
       "      <th>4</th>\n",
       "      <td>192936</td>\n",
       "      <td>End-cap</td>\n",
       "      <td>47.94</td>\n",
       "      <td>45.59</td>\n",
       "      <td>No</td>\n",
       "      <td>Medium</td>\n",
       "      <td>College students</td>\n",
       "      <td>Clothing</td>\n",
       "      <td>Yes</td>\n",
       "      <td>2942</td>\n",
       "    </tr>\n",
       "    <tr>\n",
       "      <th>...</th>\n",
       "      <td>...</td>\n",
       "      <td>...</td>\n",
       "      <td>...</td>\n",
       "      <td>...</td>\n",
       "      <td>...</td>\n",
       "      <td>...</td>\n",
       "      <td>...</td>\n",
       "      <td>...</td>\n",
       "      <td>...</td>\n",
       "      <td>...</td>\n",
       "    </tr>\n",
       "    <tr>\n",
       "      <th>995</th>\n",
       "      <td>162658</td>\n",
       "      <td>End-cap</td>\n",
       "      <td>11.56</td>\n",
       "      <td>8.61</td>\n",
       "      <td>No</td>\n",
       "      <td>Medium</td>\n",
       "      <td>Families</td>\n",
       "      <td>Electronics</td>\n",
       "      <td>Yes</td>\n",
       "      <td>1133</td>\n",
       "    </tr>\n",
       "    <tr>\n",
       "      <th>996</th>\n",
       "      <td>146858</td>\n",
       "      <td>Front of Store</td>\n",
       "      <td>47.72</td>\n",
       "      <td>46.78</td>\n",
       "      <td>No</td>\n",
       "      <td>Medium</td>\n",
       "      <td>College students</td>\n",
       "      <td>Food</td>\n",
       "      <td>Yes</td>\n",
       "      <td>565</td>\n",
       "    </tr>\n",
       "    <tr>\n",
       "      <th>997</th>\n",
       "      <td>174565</td>\n",
       "      <td>Aisle</td>\n",
       "      <td>21.30</td>\n",
       "      <td>18.71</td>\n",
       "      <td>Yes</td>\n",
       "      <td>High</td>\n",
       "      <td>Seniors</td>\n",
       "      <td>Electronics</td>\n",
       "      <td>No</td>\n",
       "      <td>890</td>\n",
       "    </tr>\n",
       "    <tr>\n",
       "      <th>998</th>\n",
       "      <td>160629</td>\n",
       "      <td>Aisle</td>\n",
       "      <td>22.82</td>\n",
       "      <td>19.13</td>\n",
       "      <td>No</td>\n",
       "      <td>Medium</td>\n",
       "      <td>Seniors</td>\n",
       "      <td>Electronics</td>\n",
       "      <td>Yes</td>\n",
       "      <td>2538</td>\n",
       "    </tr>\n",
       "    <tr>\n",
       "      <th>999</th>\n",
       "      <td>150654</td>\n",
       "      <td>End-cap</td>\n",
       "      <td>6.38</td>\n",
       "      <td>5.25</td>\n",
       "      <td>Yes</td>\n",
       "      <td>Medium</td>\n",
       "      <td>Young adults</td>\n",
       "      <td>Electronics</td>\n",
       "      <td>No</td>\n",
       "      <td>2884</td>\n",
       "    </tr>\n",
       "  </tbody>\n",
       "</table>\n",
       "<p>1000 rows × 10 columns</p>\n",
       "</div>"
      ],
      "text/plain": [
       "     Product ID Product Position  Price  Competitor's Price Promotion  \\\n",
       "0        185102            Aisle  17.07               16.16        No   \n",
       "1        188771            Aisle  17.41               13.13        No   \n",
       "2        180176          End-cap  43.16               38.37       Yes   \n",
       "3        112917            Aisle  42.26               38.98       Yes   \n",
       "4        192936          End-cap  47.94               45.59        No   \n",
       "..          ...              ...    ...                 ...       ...   \n",
       "995      162658          End-cap  11.56                8.61        No   \n",
       "996      146858   Front of Store  47.72               46.78        No   \n",
       "997      174565            Aisle  21.30               18.71       Yes   \n",
       "998      160629            Aisle  22.82               19.13        No   \n",
       "999      150654          End-cap   6.38                5.25       Yes   \n",
       "\n",
       "    Foot Traffic Consumer Demographics Product Category Seasonal  Sales Volume  \n",
       "0         Medium              Families         Clothing       No          2823  \n",
       "1            Low               Seniors         Clothing       No           654  \n",
       "2         Medium          Young adults      Electronics      Yes          2220  \n",
       "3            Low              Families         Clothing      Yes          1568  \n",
       "4         Medium      College students         Clothing      Yes          2942  \n",
       "..           ...                   ...              ...      ...           ...  \n",
       "995       Medium              Families      Electronics      Yes          1133  \n",
       "996       Medium      College students             Food      Yes           565  \n",
       "997         High               Seniors      Electronics       No           890  \n",
       "998       Medium               Seniors      Electronics      Yes          2538  \n",
       "999       Medium          Young adults      Electronics       No          2884  \n",
       "\n",
       "[1000 rows x 10 columns]"
      ]
     },
     "execution_count": 1,
     "metadata": {},
     "output_type": "execute_result"
    }
   ],
   "source": [
    "import pandas as pd\n",
    "df = pd.read_csv(\"Product_Positioning.csv\")\n",
    "df"
   ]
  },
  {
   "cell_type": "markdown",
   "id": "ee1c9c99",
   "metadata": {},
   "source": [
    "# Few samples, shape, info of the data "
   ]
  },
  {
   "cell_type": "code",
   "execution_count": 2,
   "id": "cfacbf81",
   "metadata": {},
   "outputs": [
    {
     "data": {
      "text/html": [
       "<div>\n",
       "<style scoped>\n",
       "    .dataframe tbody tr th:only-of-type {\n",
       "        vertical-align: middle;\n",
       "    }\n",
       "\n",
       "    .dataframe tbody tr th {\n",
       "        vertical-align: top;\n",
       "    }\n",
       "\n",
       "    .dataframe thead th {\n",
       "        text-align: right;\n",
       "    }\n",
       "</style>\n",
       "<table border=\"1\" class=\"dataframe\">\n",
       "  <thead>\n",
       "    <tr style=\"text-align: right;\">\n",
       "      <th></th>\n",
       "      <th>Product ID</th>\n",
       "      <th>Product Position</th>\n",
       "      <th>Price</th>\n",
       "      <th>Competitor's Price</th>\n",
       "      <th>Promotion</th>\n",
       "      <th>Foot Traffic</th>\n",
       "      <th>Consumer Demographics</th>\n",
       "      <th>Product Category</th>\n",
       "      <th>Seasonal</th>\n",
       "      <th>Sales Volume</th>\n",
       "    </tr>\n",
       "  </thead>\n",
       "  <tbody>\n",
       "    <tr>\n",
       "      <th>520</th>\n",
       "      <td>135717</td>\n",
       "      <td>Aisle</td>\n",
       "      <td>31.74</td>\n",
       "      <td>30.41</td>\n",
       "      <td>No</td>\n",
       "      <td>Medium</td>\n",
       "      <td>Families</td>\n",
       "      <td>Clothing</td>\n",
       "      <td>No</td>\n",
       "      <td>743</td>\n",
       "    </tr>\n",
       "    <tr>\n",
       "      <th>371</th>\n",
       "      <td>199887</td>\n",
       "      <td>Front of Store</td>\n",
       "      <td>29.76</td>\n",
       "      <td>29.19</td>\n",
       "      <td>No</td>\n",
       "      <td>High</td>\n",
       "      <td>Seniors</td>\n",
       "      <td>Food</td>\n",
       "      <td>Yes</td>\n",
       "      <td>1109</td>\n",
       "    </tr>\n",
       "    <tr>\n",
       "      <th>824</th>\n",
       "      <td>111455</td>\n",
       "      <td>End-cap</td>\n",
       "      <td>27.05</td>\n",
       "      <td>26.24</td>\n",
       "      <td>Yes</td>\n",
       "      <td>High</td>\n",
       "      <td>College students</td>\n",
       "      <td>Electronics</td>\n",
       "      <td>Yes</td>\n",
       "      <td>2229</td>\n",
       "    </tr>\n",
       "    <tr>\n",
       "      <th>537</th>\n",
       "      <td>130120</td>\n",
       "      <td>End-cap</td>\n",
       "      <td>42.89</td>\n",
       "      <td>38.76</td>\n",
       "      <td>No</td>\n",
       "      <td>Low</td>\n",
       "      <td>Families</td>\n",
       "      <td>Electronics</td>\n",
       "      <td>No</td>\n",
       "      <td>2963</td>\n",
       "    </tr>\n",
       "    <tr>\n",
       "      <th>25</th>\n",
       "      <td>198248</td>\n",
       "      <td>Front of Store</td>\n",
       "      <td>27.81</td>\n",
       "      <td>23.40</td>\n",
       "      <td>Yes</td>\n",
       "      <td>High</td>\n",
       "      <td>Seniors</td>\n",
       "      <td>Clothing</td>\n",
       "      <td>No</td>\n",
       "      <td>1644</td>\n",
       "    </tr>\n",
       "  </tbody>\n",
       "</table>\n",
       "</div>"
      ],
      "text/plain": [
       "     Product ID Product Position  Price  Competitor's Price Promotion  \\\n",
       "520      135717            Aisle  31.74               30.41        No   \n",
       "371      199887   Front of Store  29.76               29.19        No   \n",
       "824      111455          End-cap  27.05               26.24       Yes   \n",
       "537      130120          End-cap  42.89               38.76        No   \n",
       "25       198248   Front of Store  27.81               23.40       Yes   \n",
       "\n",
       "    Foot Traffic Consumer Demographics Product Category Seasonal  Sales Volume  \n",
       "520       Medium              Families         Clothing       No           743  \n",
       "371         High               Seniors             Food      Yes          1109  \n",
       "824         High      College students      Electronics      Yes          2229  \n",
       "537          Low              Families      Electronics       No          2963  \n",
       "25          High               Seniors         Clothing       No          1644  "
      ]
     },
     "execution_count": 2,
     "metadata": {},
     "output_type": "execute_result"
    }
   ],
   "source": [
    "df.sample(5)"
   ]
  },
  {
   "cell_type": "code",
   "execution_count": 3,
   "id": "db9fdfe3",
   "metadata": {},
   "outputs": [
    {
     "name": "stdout",
     "output_type": "stream",
     "text": [
      "<class 'pandas.core.frame.DataFrame'>\n",
      "RangeIndex: 1000 entries, 0 to 999\n",
      "Data columns (total 10 columns):\n",
      " #   Column                 Non-Null Count  Dtype  \n",
      "---  ------                 --------------  -----  \n",
      " 0   Product ID             1000 non-null   int64  \n",
      " 1   Product Position       1000 non-null   object \n",
      " 2   Price                  1000 non-null   float64\n",
      " 3   Competitor's Price     1000 non-null   float64\n",
      " 4   Promotion              1000 non-null   object \n",
      " 5   Foot Traffic           1000 non-null   object \n",
      " 6   Consumer Demographics  1000 non-null   object \n",
      " 7   Product Category       1000 non-null   object \n",
      " 8   Seasonal               1000 non-null   object \n",
      " 9   Sales Volume           1000 non-null   int64  \n",
      "dtypes: float64(2), int64(2), object(6)\n",
      "memory usage: 78.3+ KB\n"
     ]
    }
   ],
   "source": [
    "df.info()"
   ]
  },
  {
   "cell_type": "code",
   "execution_count": 4,
   "id": "023adfd2",
   "metadata": {},
   "outputs": [
    {
     "data": {
      "text/plain": [
       "(1000, 10)"
      ]
     },
     "execution_count": 4,
     "metadata": {},
     "output_type": "execute_result"
    }
   ],
   "source": [
    "df.shape"
   ]
  },
  {
   "cell_type": "code",
   "execution_count": 5,
   "id": "9a894f39",
   "metadata": {},
   "outputs": [
    {
     "data": {
      "text/plain": [
       "Index(['Product ID', 'Product Position', 'Price', 'Competitor's Price',\n",
       "       'Promotion', 'Foot Traffic', 'Consumer Demographics',\n",
       "       'Product Category', 'Seasonal', 'Sales Volume'],\n",
       "      dtype='object')"
      ]
     },
     "execution_count": 5,
     "metadata": {},
     "output_type": "execute_result"
    }
   ],
   "source": [
    "df.columns"
   ]
  },
  {
   "cell_type": "code",
   "execution_count": 6,
   "id": "d6630bc3",
   "metadata": {},
   "outputs": [
    {
     "data": {
      "text/plain": [
       "Product ID                 int64\n",
       "Product Position          object\n",
       "Price                    float64\n",
       "Competitor's Price       float64\n",
       "Promotion                 object\n",
       "Foot Traffic              object\n",
       "Consumer Demographics     object\n",
       "Product Category          object\n",
       "Seasonal                  object\n",
       "Sales Volume               int64\n",
       "dtype: object"
      ]
     },
     "execution_count": 6,
     "metadata": {},
     "output_type": "execute_result"
    }
   ],
   "source": [
    "df.dtypes"
   ]
  },
  {
   "cell_type": "code",
   "execution_count": 7,
   "id": "5daa4c8d",
   "metadata": {},
   "outputs": [
    {
     "data": {
      "text/html": [
       "<div>\n",
       "<style scoped>\n",
       "    .dataframe tbody tr th:only-of-type {\n",
       "        vertical-align: middle;\n",
       "    }\n",
       "\n",
       "    .dataframe tbody tr th {\n",
       "        vertical-align: top;\n",
       "    }\n",
       "\n",
       "    .dataframe thead th {\n",
       "        text-align: right;\n",
       "    }\n",
       "</style>\n",
       "<table border=\"1\" class=\"dataframe\">\n",
       "  <thead>\n",
       "    <tr style=\"text-align: right;\">\n",
       "      <th></th>\n",
       "      <th>Product Position</th>\n",
       "      <th>Promotion</th>\n",
       "      <th>Foot Traffic</th>\n",
       "      <th>Consumer Demographics</th>\n",
       "      <th>Product Category</th>\n",
       "      <th>Seasonal</th>\n",
       "    </tr>\n",
       "  </thead>\n",
       "  <tbody>\n",
       "    <tr>\n",
       "      <th>0</th>\n",
       "      <td>Aisle</td>\n",
       "      <td>No</td>\n",
       "      <td>Medium</td>\n",
       "      <td>Families</td>\n",
       "      <td>Clothing</td>\n",
       "      <td>No</td>\n",
       "    </tr>\n",
       "    <tr>\n",
       "      <th>1</th>\n",
       "      <td>Aisle</td>\n",
       "      <td>No</td>\n",
       "      <td>Low</td>\n",
       "      <td>Seniors</td>\n",
       "      <td>Clothing</td>\n",
       "      <td>No</td>\n",
       "    </tr>\n",
       "    <tr>\n",
       "      <th>2</th>\n",
       "      <td>End-cap</td>\n",
       "      <td>Yes</td>\n",
       "      <td>Medium</td>\n",
       "      <td>Young adults</td>\n",
       "      <td>Electronics</td>\n",
       "      <td>Yes</td>\n",
       "    </tr>\n",
       "    <tr>\n",
       "      <th>3</th>\n",
       "      <td>Aisle</td>\n",
       "      <td>Yes</td>\n",
       "      <td>Low</td>\n",
       "      <td>Families</td>\n",
       "      <td>Clothing</td>\n",
       "      <td>Yes</td>\n",
       "    </tr>\n",
       "    <tr>\n",
       "      <th>4</th>\n",
       "      <td>End-cap</td>\n",
       "      <td>No</td>\n",
       "      <td>Medium</td>\n",
       "      <td>College students</td>\n",
       "      <td>Clothing</td>\n",
       "      <td>Yes</td>\n",
       "    </tr>\n",
       "    <tr>\n",
       "      <th>...</th>\n",
       "      <td>...</td>\n",
       "      <td>...</td>\n",
       "      <td>...</td>\n",
       "      <td>...</td>\n",
       "      <td>...</td>\n",
       "      <td>...</td>\n",
       "    </tr>\n",
       "    <tr>\n",
       "      <th>995</th>\n",
       "      <td>End-cap</td>\n",
       "      <td>No</td>\n",
       "      <td>Medium</td>\n",
       "      <td>Families</td>\n",
       "      <td>Electronics</td>\n",
       "      <td>Yes</td>\n",
       "    </tr>\n",
       "    <tr>\n",
       "      <th>996</th>\n",
       "      <td>Front of Store</td>\n",
       "      <td>No</td>\n",
       "      <td>Medium</td>\n",
       "      <td>College students</td>\n",
       "      <td>Food</td>\n",
       "      <td>Yes</td>\n",
       "    </tr>\n",
       "    <tr>\n",
       "      <th>997</th>\n",
       "      <td>Aisle</td>\n",
       "      <td>Yes</td>\n",
       "      <td>High</td>\n",
       "      <td>Seniors</td>\n",
       "      <td>Electronics</td>\n",
       "      <td>No</td>\n",
       "    </tr>\n",
       "    <tr>\n",
       "      <th>998</th>\n",
       "      <td>Aisle</td>\n",
       "      <td>No</td>\n",
       "      <td>Medium</td>\n",
       "      <td>Seniors</td>\n",
       "      <td>Electronics</td>\n",
       "      <td>Yes</td>\n",
       "    </tr>\n",
       "    <tr>\n",
       "      <th>999</th>\n",
       "      <td>End-cap</td>\n",
       "      <td>Yes</td>\n",
       "      <td>Medium</td>\n",
       "      <td>Young adults</td>\n",
       "      <td>Electronics</td>\n",
       "      <td>No</td>\n",
       "    </tr>\n",
       "  </tbody>\n",
       "</table>\n",
       "<p>1000 rows × 6 columns</p>\n",
       "</div>"
      ],
      "text/plain": [
       "    Product Position Promotion Foot Traffic Consumer Demographics  \\\n",
       "0              Aisle        No       Medium              Families   \n",
       "1              Aisle        No          Low               Seniors   \n",
       "2            End-cap       Yes       Medium          Young adults   \n",
       "3              Aisle       Yes          Low              Families   \n",
       "4            End-cap        No       Medium      College students   \n",
       "..               ...       ...          ...                   ...   \n",
       "995          End-cap        No       Medium              Families   \n",
       "996   Front of Store        No       Medium      College students   \n",
       "997            Aisle       Yes         High               Seniors   \n",
       "998            Aisle        No       Medium               Seniors   \n",
       "999          End-cap       Yes       Medium          Young adults   \n",
       "\n",
       "    Product Category Seasonal  \n",
       "0           Clothing       No  \n",
       "1           Clothing       No  \n",
       "2        Electronics      Yes  \n",
       "3           Clothing      Yes  \n",
       "4           Clothing      Yes  \n",
       "..               ...      ...  \n",
       "995      Electronics      Yes  \n",
       "996             Food      Yes  \n",
       "997      Electronics       No  \n",
       "998      Electronics      Yes  \n",
       "999      Electronics       No  \n",
       "\n",
       "[1000 rows x 6 columns]"
      ]
     },
     "execution_count": 7,
     "metadata": {},
     "output_type": "execute_result"
    }
   ],
   "source": [
    "df.select_dtypes(include = 'O')"
   ]
  },
  {
   "cell_type": "markdown",
   "id": "dc60a84f",
   "metadata": {},
   "source": [
    "# Summary statistics "
   ]
  },
  {
   "cell_type": "code",
   "execution_count": 8,
   "id": "2b2d447d",
   "metadata": {},
   "outputs": [
    {
     "data": {
      "text/html": [
       "<div>\n",
       "<style scoped>\n",
       "    .dataframe tbody tr th:only-of-type {\n",
       "        vertical-align: middle;\n",
       "    }\n",
       "\n",
       "    .dataframe tbody tr th {\n",
       "        vertical-align: top;\n",
       "    }\n",
       "\n",
       "    .dataframe thead th {\n",
       "        text-align: right;\n",
       "    }\n",
       "</style>\n",
       "<table border=\"1\" class=\"dataframe\">\n",
       "  <thead>\n",
       "    <tr style=\"text-align: right;\">\n",
       "      <th></th>\n",
       "      <th>Product Position</th>\n",
       "      <th>Promotion</th>\n",
       "      <th>Foot Traffic</th>\n",
       "      <th>Consumer Demographics</th>\n",
       "      <th>Product Category</th>\n",
       "      <th>Seasonal</th>\n",
       "    </tr>\n",
       "  </thead>\n",
       "  <tbody>\n",
       "    <tr>\n",
       "      <th>count</th>\n",
       "      <td>1000</td>\n",
       "      <td>1000</td>\n",
       "      <td>1000</td>\n",
       "      <td>1000</td>\n",
       "      <td>1000</td>\n",
       "      <td>1000</td>\n",
       "    </tr>\n",
       "    <tr>\n",
       "      <th>unique</th>\n",
       "      <td>3</td>\n",
       "      <td>2</td>\n",
       "      <td>3</td>\n",
       "      <td>4</td>\n",
       "      <td>3</td>\n",
       "      <td>2</td>\n",
       "    </tr>\n",
       "    <tr>\n",
       "      <th>top</th>\n",
       "      <td>End-cap</td>\n",
       "      <td>No</td>\n",
       "      <td>High</td>\n",
       "      <td>Families</td>\n",
       "      <td>Clothing</td>\n",
       "      <td>Yes</td>\n",
       "    </tr>\n",
       "    <tr>\n",
       "      <th>freq</th>\n",
       "      <td>342</td>\n",
       "      <td>528</td>\n",
       "      <td>340</td>\n",
       "      <td>263</td>\n",
       "      <td>338</td>\n",
       "      <td>505</td>\n",
       "    </tr>\n",
       "  </tbody>\n",
       "</table>\n",
       "</div>"
      ],
      "text/plain": [
       "       Product Position Promotion Foot Traffic Consumer Demographics  \\\n",
       "count              1000      1000         1000                  1000   \n",
       "unique                3         2            3                     4   \n",
       "top             End-cap        No         High              Families   \n",
       "freq                342       528          340                   263   \n",
       "\n",
       "       Product Category Seasonal  \n",
       "count              1000     1000  \n",
       "unique                3        2  \n",
       "top            Clothing      Yes  \n",
       "freq                338      505  "
      ]
     },
     "execution_count": 8,
     "metadata": {},
     "output_type": "execute_result"
    }
   ],
   "source": [
    "df.describe(include = 'O')"
   ]
  },
  {
   "cell_type": "code",
   "execution_count": 9,
   "id": "9321c812",
   "metadata": {},
   "outputs": [
    {
     "data": {
      "text/html": [
       "<div>\n",
       "<style scoped>\n",
       "    .dataframe tbody tr th:only-of-type {\n",
       "        vertical-align: middle;\n",
       "    }\n",
       "\n",
       "    .dataframe tbody tr th {\n",
       "        vertical-align: top;\n",
       "    }\n",
       "\n",
       "    .dataframe thead th {\n",
       "        text-align: right;\n",
       "    }\n",
       "</style>\n",
       "<table border=\"1\" class=\"dataframe\">\n",
       "  <thead>\n",
       "    <tr style=\"text-align: right;\">\n",
       "      <th></th>\n",
       "      <th>Product ID</th>\n",
       "      <th>Price</th>\n",
       "      <th>Competitor's Price</th>\n",
       "      <th>Sales Volume</th>\n",
       "    </tr>\n",
       "  </thead>\n",
       "  <tbody>\n",
       "    <tr>\n",
       "      <th>count</th>\n",
       "      <td>1000.000000</td>\n",
       "      <td>1000.000000</td>\n",
       "      <td>1000.000000</td>\n",
       "      <td>1000.000000</td>\n",
       "    </tr>\n",
       "    <tr>\n",
       "      <th>mean</th>\n",
       "      <td>154899.862000</td>\n",
       "      <td>28.020010</td>\n",
       "      <td>25.550110</td>\n",
       "      <td>1769.311000</td>\n",
       "    </tr>\n",
       "    <tr>\n",
       "      <th>std</th>\n",
       "      <td>25795.563607</td>\n",
       "      <td>13.067876</td>\n",
       "      <td>13.156466</td>\n",
       "      <td>718.386603</td>\n",
       "    </tr>\n",
       "    <tr>\n",
       "      <th>min</th>\n",
       "      <td>110033.000000</td>\n",
       "      <td>5.060000</td>\n",
       "      <td>0.720000</td>\n",
       "      <td>507.000000</td>\n",
       "    </tr>\n",
       "    <tr>\n",
       "      <th>25%</th>\n",
       "      <td>133164.500000</td>\n",
       "      <td>16.917500</td>\n",
       "      <td>14.277500</td>\n",
       "      <td>1136.500000</td>\n",
       "    </tr>\n",
       "    <tr>\n",
       "      <th>50%</th>\n",
       "      <td>154694.500000</td>\n",
       "      <td>28.680000</td>\n",
       "      <td>26.145000</td>\n",
       "      <td>1791.500000</td>\n",
       "    </tr>\n",
       "    <tr>\n",
       "      <th>75%</th>\n",
       "      <td>176954.250000</td>\n",
       "      <td>39.332500</td>\n",
       "      <td>37.125000</td>\n",
       "      <td>2363.750000</td>\n",
       "    </tr>\n",
       "    <tr>\n",
       "      <th>max</th>\n",
       "      <td>199976.000000</td>\n",
       "      <td>49.980000</td>\n",
       "      <td>49.850000</td>\n",
       "      <td>2999.000000</td>\n",
       "    </tr>\n",
       "  </tbody>\n",
       "</table>\n",
       "</div>"
      ],
      "text/plain": [
       "          Product ID        Price  Competitor's Price  Sales Volume\n",
       "count    1000.000000  1000.000000         1000.000000   1000.000000\n",
       "mean   154899.862000    28.020010           25.550110   1769.311000\n",
       "std     25795.563607    13.067876           13.156466    718.386603\n",
       "min    110033.000000     5.060000            0.720000    507.000000\n",
       "25%    133164.500000    16.917500           14.277500   1136.500000\n",
       "50%    154694.500000    28.680000           26.145000   1791.500000\n",
       "75%    176954.250000    39.332500           37.125000   2363.750000\n",
       "max    199976.000000    49.980000           49.850000   2999.000000"
      ]
     },
     "execution_count": 9,
     "metadata": {},
     "output_type": "execute_result"
    }
   ],
   "source": [
    "df.describe(exclude = 'O')"
   ]
  },
  {
   "cell_type": "code",
   "execution_count": 10,
   "id": "9b9dd790",
   "metadata": {},
   "outputs": [
    {
     "data": {
      "text/html": [
       "<div>\n",
       "<style scoped>\n",
       "    .dataframe tbody tr th:only-of-type {\n",
       "        vertical-align: middle;\n",
       "    }\n",
       "\n",
       "    .dataframe tbody tr th {\n",
       "        vertical-align: top;\n",
       "    }\n",
       "\n",
       "    .dataframe thead th {\n",
       "        text-align: right;\n",
       "    }\n",
       "</style>\n",
       "<table border=\"1\" class=\"dataframe\">\n",
       "  <thead>\n",
       "    <tr style=\"text-align: right;\">\n",
       "      <th></th>\n",
       "      <th>Price</th>\n",
       "      <th>Competitor's Price</th>\n",
       "    </tr>\n",
       "  </thead>\n",
       "  <tbody>\n",
       "    <tr>\n",
       "      <th>count</th>\n",
       "      <td>1000.000000</td>\n",
       "      <td>1000.000000</td>\n",
       "    </tr>\n",
       "    <tr>\n",
       "      <th>mean</th>\n",
       "      <td>28.020010</td>\n",
       "      <td>25.550110</td>\n",
       "    </tr>\n",
       "    <tr>\n",
       "      <th>std</th>\n",
       "      <td>13.067876</td>\n",
       "      <td>13.156466</td>\n",
       "    </tr>\n",
       "    <tr>\n",
       "      <th>min</th>\n",
       "      <td>5.060000</td>\n",
       "      <td>0.720000</td>\n",
       "    </tr>\n",
       "    <tr>\n",
       "      <th>25%</th>\n",
       "      <td>16.917500</td>\n",
       "      <td>14.277500</td>\n",
       "    </tr>\n",
       "    <tr>\n",
       "      <th>50%</th>\n",
       "      <td>28.680000</td>\n",
       "      <td>26.145000</td>\n",
       "    </tr>\n",
       "    <tr>\n",
       "      <th>75%</th>\n",
       "      <td>39.332500</td>\n",
       "      <td>37.125000</td>\n",
       "    </tr>\n",
       "    <tr>\n",
       "      <th>max</th>\n",
       "      <td>49.980000</td>\n",
       "      <td>49.850000</td>\n",
       "    </tr>\n",
       "  </tbody>\n",
       "</table>\n",
       "</div>"
      ],
      "text/plain": [
       "             Price  Competitor's Price\n",
       "count  1000.000000         1000.000000\n",
       "mean     28.020010           25.550110\n",
       "std      13.067876           13.156466\n",
       "min       5.060000            0.720000\n",
       "25%      16.917500           14.277500\n",
       "50%      28.680000           26.145000\n",
       "75%      39.332500           37.125000\n",
       "max      49.980000           49.850000"
      ]
     },
     "execution_count": 10,
     "metadata": {},
     "output_type": "execute_result"
    }
   ],
   "source": [
    "df.describe(include = 'float')"
   ]
  },
  {
   "cell_type": "markdown",
   "id": "d206bb76",
   "metadata": {},
   "source": [
    "# Skewness and Kurtosis"
   ]
  },
  {
   "cell_type": "code",
   "execution_count": 11,
   "id": "8cfed6d3",
   "metadata": {},
   "outputs": [
    {
     "data": {
      "text/plain": [
       "Product ID           -0.018556\n",
       "Price                -0.056232\n",
       "Competitor's Price   -0.056684\n",
       "Sales Volume         -0.037346\n",
       "dtype: float64"
      ]
     },
     "execution_count": 11,
     "metadata": {},
     "output_type": "execute_result"
    }
   ],
   "source": [
    "df.skew(numeric_only=True) "
   ]
  },
  {
   "cell_type": "code",
   "execution_count": 12,
   "id": "3ae1b00c",
   "metadata": {},
   "outputs": [
    {
     "data": {
      "text/plain": [
       "Product ID           -1.148765\n",
       "Price                -1.219933\n",
       "Competitor's Price   -1.193954\n",
       "Sales Volume         -1.187277\n",
       "dtype: float64"
      ]
     },
     "execution_count": 12,
     "metadata": {},
     "output_type": "execute_result"
    }
   ],
   "source": [
    "df.kurt(numeric_only=True) "
   ]
  },
  {
   "cell_type": "markdown",
   "id": "2269bcd8",
   "metadata": {},
   "source": [
    "# Correlation"
   ]
  },
  {
   "cell_type": "code",
   "execution_count": 13,
   "id": "1333735a",
   "metadata": {},
   "outputs": [
    {
     "data": {
      "text/html": [
       "<div>\n",
       "<style scoped>\n",
       "    .dataframe tbody tr th:only-of-type {\n",
       "        vertical-align: middle;\n",
       "    }\n",
       "\n",
       "    .dataframe tbody tr th {\n",
       "        vertical-align: top;\n",
       "    }\n",
       "\n",
       "    .dataframe thead th {\n",
       "        text-align: right;\n",
       "    }\n",
       "</style>\n",
       "<table border=\"1\" class=\"dataframe\">\n",
       "  <thead>\n",
       "    <tr style=\"text-align: right;\">\n",
       "      <th></th>\n",
       "      <th>Product ID</th>\n",
       "      <th>Price</th>\n",
       "      <th>Competitor's Price</th>\n",
       "      <th>Sales Volume</th>\n",
       "    </tr>\n",
       "  </thead>\n",
       "  <tbody>\n",
       "    <tr>\n",
       "      <th>Product ID</th>\n",
       "      <td>1.000000</td>\n",
       "      <td>-0.020931</td>\n",
       "      <td>-0.021864</td>\n",
       "      <td>-0.002063</td>\n",
       "    </tr>\n",
       "    <tr>\n",
       "      <th>Price</th>\n",
       "      <td>-0.020931</td>\n",
       "      <td>1.000000</td>\n",
       "      <td>0.993903</td>\n",
       "      <td>0.046001</td>\n",
       "    </tr>\n",
       "    <tr>\n",
       "      <th>Competitor's Price</th>\n",
       "      <td>-0.021864</td>\n",
       "      <td>0.993903</td>\n",
       "      <td>1.000000</td>\n",
       "      <td>0.048552</td>\n",
       "    </tr>\n",
       "    <tr>\n",
       "      <th>Sales Volume</th>\n",
       "      <td>-0.002063</td>\n",
       "      <td>0.046001</td>\n",
       "      <td>0.048552</td>\n",
       "      <td>1.000000</td>\n",
       "    </tr>\n",
       "  </tbody>\n",
       "</table>\n",
       "</div>"
      ],
      "text/plain": [
       "                    Product ID     Price  Competitor's Price  Sales Volume\n",
       "Product ID            1.000000 -0.020931           -0.021864     -0.002063\n",
       "Price                -0.020931  1.000000            0.993903      0.046001\n",
       "Competitor's Price   -0.021864  0.993903            1.000000      0.048552\n",
       "Sales Volume         -0.002063  0.046001            0.048552      1.000000"
      ]
     },
     "execution_count": 13,
     "metadata": {},
     "output_type": "execute_result"
    }
   ],
   "source": [
    "df.corr(numeric_only=True) "
   ]
  },
  {
   "cell_type": "code",
   "execution_count": null,
   "id": "c5f691dd",
   "metadata": {},
   "outputs": [],
   "source": [
    "# Inference\n",
    "# Here the correlation matrix shows that the correlation value of competitor's price is closer to 1 which is higher "
   ]
  },
  {
   "cell_type": "code",
   "execution_count": 14,
   "id": "2cd647e4",
   "metadata": {},
   "outputs": [
    {
     "data": {
      "text/plain": [
       "Product ID               0\n",
       "Product Position         0\n",
       "Price                    0\n",
       "Competitor's Price       0\n",
       "Promotion                0\n",
       "Foot Traffic             0\n",
       "Consumer Demographics    0\n",
       "Product Category         0\n",
       "Seasonal                 0\n",
       "Sales Volume             0\n",
       "dtype: int64"
      ]
     },
     "execution_count": 14,
     "metadata": {},
     "output_type": "execute_result"
    }
   ],
   "source": [
    "df.isnull().sum()"
   ]
  },
  {
   "cell_type": "code",
   "execution_count": 15,
   "id": "7b12a73b",
   "metadata": {},
   "outputs": [
    {
     "data": {
      "text/plain": [
       "Product ID               989\n",
       "Product Position           3\n",
       "Price                    897\n",
       "Competitor's Price       915\n",
       "Promotion                  2\n",
       "Foot Traffic               3\n",
       "Consumer Demographics      4\n",
       "Product Category           3\n",
       "Seasonal                   2\n",
       "Sales Volume             811\n",
       "dtype: int64"
      ]
     },
     "execution_count": 15,
     "metadata": {},
     "output_type": "execute_result"
    }
   ],
   "source": [
    "df.nunique()"
   ]
  },
  {
   "cell_type": "markdown",
   "id": "70eb80a1",
   "metadata": {},
   "source": [
    "# Absence of duplicates"
   ]
  },
  {
   "cell_type": "code",
   "execution_count": 16,
   "id": "e2a0d61d",
   "metadata": {},
   "outputs": [
    {
     "data": {
      "text/html": [
       "<div>\n",
       "<style scoped>\n",
       "    .dataframe tbody tr th:only-of-type {\n",
       "        vertical-align: middle;\n",
       "    }\n",
       "\n",
       "    .dataframe tbody tr th {\n",
       "        vertical-align: top;\n",
       "    }\n",
       "\n",
       "    .dataframe thead th {\n",
       "        text-align: right;\n",
       "    }\n",
       "</style>\n",
       "<table border=\"1\" class=\"dataframe\">\n",
       "  <thead>\n",
       "    <tr style=\"text-align: right;\">\n",
       "      <th></th>\n",
       "      <th>Product ID</th>\n",
       "      <th>Product Position</th>\n",
       "      <th>Price</th>\n",
       "      <th>Competitor's Price</th>\n",
       "      <th>Promotion</th>\n",
       "      <th>Foot Traffic</th>\n",
       "      <th>Consumer Demographics</th>\n",
       "      <th>Product Category</th>\n",
       "      <th>Seasonal</th>\n",
       "      <th>Sales Volume</th>\n",
       "    </tr>\n",
       "  </thead>\n",
       "  <tbody>\n",
       "  </tbody>\n",
       "</table>\n",
       "</div>"
      ],
      "text/plain": [
       "Empty DataFrame\n",
       "Columns: [Product ID, Product Position, Price, Competitor's Price, Promotion, Foot Traffic, Consumer Demographics, Product Category, Seasonal, Sales Volume]\n",
       "Index: []"
      ]
     },
     "execution_count": 16,
     "metadata": {},
     "output_type": "execute_result"
    }
   ],
   "source": [
    "df[df.duplicated()]"
   ]
  },
  {
   "cell_type": "markdown",
   "id": "c4a7f2e1",
   "metadata": {},
   "source": [
    "# Unique categories of the column 'Consumer Demographics'"
   ]
  },
  {
   "cell_type": "code",
   "execution_count": 17,
   "id": "2631960b",
   "metadata": {},
   "outputs": [
    {
     "data": {
      "text/plain": [
       "array(['Families', 'Seniors', 'Young adults', 'College students'],\n",
       "      dtype=object)"
      ]
     },
     "execution_count": 17,
     "metadata": {},
     "output_type": "execute_result"
    }
   ],
   "source": [
    "df[\"Consumer Demographics\"].unique()"
   ]
  },
  {
   "cell_type": "markdown",
   "id": "d1d596f4",
   "metadata": {},
   "source": [
    "# Unique categories of the column 'Product Category'"
   ]
  },
  {
   "cell_type": "code",
   "execution_count": 18,
   "id": "e338c1de",
   "metadata": {},
   "outputs": [
    {
     "data": {
      "text/plain": [
       "array(['Clothing', 'Electronics', 'Food'], dtype=object)"
      ]
     },
     "execution_count": 18,
     "metadata": {},
     "output_type": "execute_result"
    }
   ],
   "source": [
    "df[\"Product Category\"].unique()"
   ]
  },
  {
   "cell_type": "markdown",
   "id": "37027c5e",
   "metadata": {},
   "source": [
    "# Unique categories of the column 'Foot Traffic'"
   ]
  },
  {
   "cell_type": "code",
   "execution_count": 19,
   "id": "db2111a0",
   "metadata": {},
   "outputs": [
    {
     "data": {
      "text/plain": [
       "array(['Medium', 'Low', 'High'], dtype=object)"
      ]
     },
     "execution_count": 19,
     "metadata": {},
     "output_type": "execute_result"
    }
   ],
   "source": [
    "df[\"Foot Traffic\"].unique()"
   ]
  },
  {
   "cell_type": "markdown",
   "id": "f22c44f6",
   "metadata": {},
   "source": [
    "# Unique categories of the column 'Promotion'"
   ]
  },
  {
   "cell_type": "code",
   "execution_count": 20,
   "id": "dadc47b9",
   "metadata": {},
   "outputs": [
    {
     "data": {
      "text/plain": [
       "array(['No', 'Yes'], dtype=object)"
      ]
     },
     "execution_count": 20,
     "metadata": {},
     "output_type": "execute_result"
    }
   ],
   "source": [
    "df[\"Promotion\"].unique()"
   ]
  },
  {
   "cell_type": "markdown",
   "id": "ae43aeab",
   "metadata": {},
   "source": [
    "# Unique categories of the column 'Seasonal'"
   ]
  },
  {
   "cell_type": "code",
   "execution_count": 21,
   "id": "bbc4af42",
   "metadata": {},
   "outputs": [
    {
     "data": {
      "text/plain": [
       "array(['No', 'Yes'], dtype=object)"
      ]
     },
     "execution_count": 21,
     "metadata": {},
     "output_type": "execute_result"
    }
   ],
   "source": [
    "df[\"Seasonal\"].unique()"
   ]
  },
  {
   "cell_type": "markdown",
   "id": "6df65ce8",
   "metadata": {},
   "source": [
    "# Unique categories of the column 'Product Position'"
   ]
  },
  {
   "cell_type": "code",
   "execution_count": 22,
   "id": "5ea5132c",
   "metadata": {},
   "outputs": [
    {
     "data": {
      "text/plain": [
       "array(['Aisle', 'End-cap', 'Front of Store'], dtype=object)"
      ]
     },
     "execution_count": 22,
     "metadata": {},
     "output_type": "execute_result"
    }
   ],
   "source": [
    "df[\"Product Position\"].unique()"
   ]
  },
  {
   "cell_type": "markdown",
   "id": "984167aa",
   "metadata": {},
   "source": [
    "# Count and Percentage of unique values in each column"
   ]
  },
  {
   "cell_type": "markdown",
   "id": "26ded040",
   "metadata": {},
   "source": [
    "# Product Position"
   ]
  },
  {
   "cell_type": "code",
   "execution_count": 23,
   "id": "2417b329",
   "metadata": {},
   "outputs": [
    {
     "data": {
      "text/plain": [
       "Product Position\n",
       "End-cap           342\n",
       "Aisle             340\n",
       "Front of Store    318\n",
       "Name: count, dtype: int64"
      ]
     },
     "execution_count": 23,
     "metadata": {},
     "output_type": "execute_result"
    }
   ],
   "source": [
    "df['Product Position'].value_counts()"
   ]
  },
  {
   "cell_type": "code",
   "execution_count": 24,
   "id": "e8380b82",
   "metadata": {},
   "outputs": [
    {
     "data": {
      "image/png": "[encoded data removed]",
      "text/plain": [
       "<Figure size 640x480 with 1 Axes>"
      ]
     },
     "metadata": {},
     "output_type": "display_data"
    }
   ],
   "source": [
    "import matplotlib.pyplot as plt\n",
    "plt.pie(df.groupby(['Product Position'])['Product Position'].count(),autopct = '%0.1f%%',labels = df.groupby(['Product Position'])['Product Position'].count().index,shadow = True,explode = [0,0.25,0]);"
   ]
  },
  {
   "cell_type": "markdown",
   "id": "dc9c0d46",
   "metadata": {},
   "source": [
    "# Promotion"
   ]
  },
  {
   "cell_type": "code",
   "execution_count": 25,
   "id": "398e836b",
   "metadata": {},
   "outputs": [
    {
     "data": {
      "text/plain": [
       "Promotion\n",
       "No     528\n",
       "Yes    472\n",
       "Name: count, dtype: int64"
      ]
     },
     "execution_count": 25,
     "metadata": {},
     "output_type": "execute_result"
    }
   ],
   "source": [
    "df['Promotion'].value_counts()"
   ]
  },
  {
   "cell_type": "code",
   "execution_count": 26,
   "id": "c8086ae6",
   "metadata": {},
   "outputs": [
    {
     "data": {
      "image/png": "[encoded data removed]",
      "text/plain": [
       "<Figure size 640x480 with 1 Axes>"
      ]
     },
     "metadata": {},
     "output_type": "display_data"
    }
   ],
   "source": [
    "plt.pie(df.groupby(['Promotion'])['Promotion'].count(),autopct = '%0.1f%%',labels = df.groupby(['Promotion'])['Promotion'].count().index,shadow = True,explode = [0,0]);"
   ]
  },
  {
   "cell_type": "markdown",
   "id": "c43ac5f1",
   "metadata": {},
   "source": [
    "# Foot Traffic"
   ]
  },
  {
   "cell_type": "code",
   "execution_count": 27,
   "id": "deb0c95c",
   "metadata": {},
   "outputs": [
    {
     "data": {
      "text/plain": [
       "Foot Traffic\n",
       "High      340\n",
       "Medium    338\n",
       "Low       322\n",
       "Name: count, dtype: int64"
      ]
     },
     "execution_count": 27,
     "metadata": {},
     "output_type": "execute_result"
    }
   ],
   "source": [
    "df['Foot Traffic'].value_counts()"
   ]
  },
  {
   "cell_type": "code",
   "execution_count": 28,
   "id": "cfd53838",
   "metadata": {},
   "outputs": [
    {
     "data": {
      "image/png": "[encoded data removed]",
      "text/plain": [
       "<Figure size 640x480 with 1 Axes>"
      ]
     },
     "metadata": {},
     "output_type": "display_data"
    }
   ],
   "source": [
    "plt.pie(df.groupby(['Foot Traffic'])['Foot Traffic'].count(),autopct = '%0.1f%%',labels = df.groupby(['Foot Traffic'])['Foot Traffic'].count().index,shadow = True, explode = [0.25,0,0]);"
   ]
  },
  {
   "cell_type": "markdown",
   "id": "5e97de9d",
   "metadata": {},
   "source": [
    "# Consumer Demographics"
   ]
  },
  {
   "cell_type": "code",
   "execution_count": 29,
   "id": "73f823c1",
   "metadata": {},
   "outputs": [
    {
     "data": {
      "text/plain": [
       "Consumer Demographics\n",
       "Families            263\n",
       "College students    251\n",
       "Seniors             249\n",
       "Young adults        237\n",
       "Name: count, dtype: int64"
      ]
     },
     "execution_count": 29,
     "metadata": {},
     "output_type": "execute_result"
    }
   ],
   "source": [
    "df['Consumer Demographics'].value_counts()"
   ]
  },
  {
   "cell_type": "code",
   "execution_count": 30,
   "id": "276b0c1f",
   "metadata": {},
   "outputs": [
    {
     "data": {
      "image/png": "[encoded data removed]",
      "text/plain": [
       "<Figure size 640x480 with 1 Axes>"
      ]
     },
     "metadata": {},
     "output_type": "display_data"
    }
   ],
   "source": [
    "plt.pie(df.groupby(['Consumer Demographics'])['Consumer Demographics'].count(),autopct = '%0.1f%%',labels = df.groupby(['Consumer Demographics'])['Consumer Demographics'].count().index,shadow = True, explode = [0,0.25,0,0]);"
   ]
  },
  {
   "cell_type": "markdown",
   "id": "0f4a5720",
   "metadata": {},
   "source": [
    "# Product Category"
   ]
  },
  {
   "cell_type": "code",
   "execution_count": 31,
   "id": "3525fe36",
   "metadata": {},
   "outputs": [
    {
     "data": {
      "text/plain": [
       "Product Category\n",
       "Clothing       338\n",
       "Electronics    336\n",
       "Food           326\n",
       "Name: count, dtype: int64"
      ]
     },
     "execution_count": 31,
     "metadata": {},
     "output_type": "execute_result"
    }
   ],
   "source": [
    "df['Product Category'].value_counts()"
   ]
  },
  {
   "cell_type": "code",
   "execution_count": 32,
   "id": "20a16aad",
   "metadata": {},
   "outputs": [
    {
     "data": {
      "image/png": "[encoded data removed]",
      "text/plain": [
       "<Figure size 640x480 with 1 Axes>"
      ]
     },
     "metadata": {},
     "output_type": "display_data"
    }
   ],
   "source": [
    "plt.pie(df.groupby(['Product Category'])['Product Category'].count(),autopct = '%0.1f%%',labels = df.groupby(['Product Category'])['Product Category'].count().index,shadow = True,explode = [0.25,0,0]);"
   ]
  },
  {
   "cell_type": "markdown",
   "id": "2c182f95",
   "metadata": {},
   "source": [
    "# Seasonality"
   ]
  },
  {
   "cell_type": "code",
   "execution_count": 33,
   "id": "3fce354e",
   "metadata": {},
   "outputs": [
    {
     "data": {
      "text/plain": [
       "Seasonal\n",
       "Yes    505\n",
       "No     495\n",
       "Name: count, dtype: int64"
      ]
     },
     "execution_count": 33,
     "metadata": {},
     "output_type": "execute_result"
    }
   ],
   "source": [
    "df['Seasonal'].value_counts()"
   ]
  },
  {
   "cell_type": "code",
   "execution_count": 34,
   "id": "c659e074",
   "metadata": {},
   "outputs": [
    {
     "data": {
      "image/png": "[encoded data removed]",
      "text/plain": [
       "<Figure size 640x480 with 1 Axes>"
      ]
     },
     "metadata": {},
     "output_type": "display_data"
    }
   ],
   "source": [
    "plt.pie(df.groupby(['Seasonal'])['Seasonal'].count(),autopct = '%0.1f%%',labels = df.groupby(['Seasonal'])['Seasonal'].count().index,shadow = True);"
   ]
  },
  {
   "cell_type": "markdown",
   "id": "e7907332",
   "metadata": {},
   "source": [
    "# Boxplot for the detection of Outliers"
   ]
  },
  {
   "cell_type": "code",
   "execution_count": 36,
   "id": "3e124a29",
   "metadata": {},
   "outputs": [
    {
     "data": {
      "image/png": "[encoded data removed]",
      "text/plain": [
       "<Figure size 640x480 with 1 Axes>"
      ]
     },
     "metadata": {},
     "output_type": "display_data"
    }
   ],
   "source": [
    "plt.boxplot(df[\"Sales Volume\"]);"
   ]
  },
  {
   "cell_type": "code",
   "execution_count": 37,
   "id": "40eb01cc",
   "metadata": {},
   "outputs": [],
   "source": [
    "# Inference\n",
    "# No outliers where detected in any of the numerical columns as inferred from the boxplot"
   ]
  },
  {
   "cell_type": "markdown",
   "id": "56ef81b8",
   "metadata": {},
   "source": [
    "# Regression plot "
   ]
  },
  {
   "cell_type": "code",
   "execution_count": 38,
   "id": "ce87d5f7",
   "metadata": {},
   "outputs": [
    {
     "data": {
      "image/png": "[encoded data removed]",
      "text/plain": [
       "<Figure size 640x480 with 1 Axes>"
      ]
     },
     "metadata": {},
     "output_type": "display_data"
    }
   ],
   "source": [
    "import seaborn as sns\n",
    "sns.regplot(data = df, y = \"Price\",x = 'Sales Volume');"
   ]
  },
  {
   "cell_type": "markdown",
   "id": "e7f664a4",
   "metadata": {},
   "source": [
    "# Scatterplot based on Product position and Sales volume"
   ]
  },
  {
   "cell_type": "code",
   "execution_count": 39,
   "id": "91bca757",
   "metadata": {},
   "outputs": [
    {
     "data": {
      "image/png": "[encoded data removed]",
      "text/plain": [
       "<Figure size 640x480 with 1 Axes>"
      ]
     },
     "metadata": {},
     "output_type": "display_data"
    }
   ],
   "source": [
    "sns.scatterplot(x=df['Product Position'],y = df['Sales Volume']);\n",
    "plt.title('Relationship between x and y');"
   ]
  },
  {
   "cell_type": "code",
   "execution_count": 40,
   "id": "0cf91852",
   "metadata": {},
   "outputs": [],
   "source": []
  },
  {
   "cell_type": "markdown",
   "id": "82f771ef",
   "metadata": {},
   "source": [
    "# Total sales volume based on Product position"
   ]
  },
  {
   "cell_type": "code",
   "execution_count": 41,
   "id": "c32966b8",
   "metadata": {},
   "outputs": [
    {
     "data": {
      "text/html": [
       "<div>\n",
       "<style scoped>\n",
       "    .dataframe tbody tr th:only-of-type {\n",
       "        vertical-align: middle;\n",
       "    }\n",
       "\n",
       "    .dataframe tbody tr th {\n",
       "        vertical-align: top;\n",
       "    }\n",
       "\n",
       "    .dataframe thead th {\n",
       "        text-align: right;\n",
       "    }\n",
       "</style>\n",
       "<table border=\"1\" class=\"dataframe\">\n",
       "  <thead>\n",
       "    <tr style=\"text-align: right;\">\n",
       "      <th></th>\n",
       "      <th>Sales Volume</th>\n",
       "    </tr>\n",
       "    <tr>\n",
       "      <th>Product Position</th>\n",
       "      <th></th>\n",
       "    </tr>\n",
       "  </thead>\n",
       "  <tbody>\n",
       "    <tr>\n",
       "      <th>Aisle</th>\n",
       "      <td>605470</td>\n",
       "    </tr>\n",
       "    <tr>\n",
       "      <th>End-cap</th>\n",
       "      <td>599917</td>\n",
       "    </tr>\n",
       "    <tr>\n",
       "      <th>Front of Store</th>\n",
       "      <td>563924</td>\n",
       "    </tr>\n",
       "  </tbody>\n",
       "</table>\n",
       "</div>"
      ],
      "text/plain": [
       "                  Sales Volume\n",
       "Product Position              \n",
       "Aisle                   605470\n",
       "End-cap                 599917\n",
       "Front of Store          563924"
      ]
     },
     "execution_count": 41,
     "metadata": {},
     "output_type": "execute_result"
    }
   ],
   "source": [
    "df.groupby(by=['Product Position']).sum()[['Sales Volume']]   "
   ]
  },
  {
   "cell_type": "code",
   "execution_count": 42,
   "id": "60b9d7c9",
   "metadata": {},
   "outputs": [],
   "source": [
    "# Inference\n",
    "# Sales volume is highest for the products kept in 'aisle' followed by 'End cap' and Front of store' \n",
    "\n",
    "\n",
    "# Walking through the aisle attracts consumer to buy additional products while in search of other important and necessary products kept at last or in the end cap.\n",
    "# Hence, there is an high sales on the aisle\n",
    "# Products placed on Front of store will attract consumer immediately after entering the store. Hence it is the second highest.\n",
    "# Endcaps, entryway displays get you more exposure to the shopper.\n",
    "# Endcaps sit at the ends of aisles. Because visitors walk by them while moving from one aisle to another, they're in a perfect spot to catch lots of attention. Even passerby strolling through the main walkways can spot products without venturing down the aisles.\n"
   ]
  },
  {
   "cell_type": "markdown",
   "id": "8c510fea",
   "metadata": {},
   "source": [
    "# Total sales based on Consumer Demographics"
   ]
  },
  {
   "cell_type": "code",
   "execution_count": 44,
   "id": "c7d132dc",
   "metadata": {},
   "outputs": [
    {
     "data": {
      "text/html": [
       "<div>\n",
       "<style scoped>\n",
       "    .dataframe tbody tr th:only-of-type {\n",
       "        vertical-align: middle;\n",
       "    }\n",
       "\n",
       "    .dataframe tbody tr th {\n",
       "        vertical-align: top;\n",
       "    }\n",
       "\n",
       "    .dataframe thead th {\n",
       "        text-align: right;\n",
       "    }\n",
       "</style>\n",
       "<table border=\"1\" class=\"dataframe\">\n",
       "  <thead>\n",
       "    <tr style=\"text-align: right;\">\n",
       "      <th></th>\n",
       "      <th>Sales Volume</th>\n",
       "    </tr>\n",
       "    <tr>\n",
       "      <th>Consumer Demographics</th>\n",
       "      <th></th>\n",
       "    </tr>\n",
       "  </thead>\n",
       "  <tbody>\n",
       "    <tr>\n",
       "      <th>College students</th>\n",
       "      <td>450063</td>\n",
       "    </tr>\n",
       "    <tr>\n",
       "      <th>Families</th>\n",
       "      <td>443276</td>\n",
       "    </tr>\n",
       "    <tr>\n",
       "      <th>Seniors</th>\n",
       "      <td>444089</td>\n",
       "    </tr>\n",
       "    <tr>\n",
       "      <th>Young adults</th>\n",
       "      <td>431883</td>\n",
       "    </tr>\n",
       "  </tbody>\n",
       "</table>\n",
       "</div>"
      ],
      "text/plain": [
       "                       Sales Volume\n",
       "Consumer Demographics              \n",
       "College students             450063\n",
       "Families                     443276\n",
       "Seniors                      444089\n",
       "Young adults                 431883"
      ]
     },
     "execution_count": 44,
     "metadata": {},
     "output_type": "execute_result"
    }
   ],
   "source": [
    "df.groupby(by=['Consumer Demographics']).sum()[['Sales Volume']]   "
   ]
  },
  {
   "cell_type": "code",
   "execution_count": 45,
   "id": "81b8dbb7",
   "metadata": {},
   "outputs": [],
   "source": [
    "# Inference\n",
    "# Highest number of products are purchased by College students , followed by seniors, families, young adults."
   ]
  },
  {
   "cell_type": "markdown",
   "id": "075bc0c4",
   "metadata": {},
   "source": [
    "# Total sales based on product category"
   ]
  },
  {
   "cell_type": "code",
   "execution_count": 95,
   "id": "ada5e4bb",
   "metadata": {},
   "outputs": [
    {
     "data": {
      "text/html": [
       "<div>\n",
       "<style scoped>\n",
       "    .dataframe tbody tr th:only-of-type {\n",
       "        vertical-align: middle;\n",
       "    }\n",
       "\n",
       "    .dataframe tbody tr th {\n",
       "        vertical-align: top;\n",
       "    }\n",
       "\n",
       "    .dataframe thead th {\n",
       "        text-align: right;\n",
       "    }\n",
       "</style>\n",
       "<table border=\"1\" class=\"dataframe\">\n",
       "  <thead>\n",
       "    <tr style=\"text-align: right;\">\n",
       "      <th></th>\n",
       "      <th>Sales Volume</th>\n",
       "    </tr>\n",
       "    <tr>\n",
       "      <th>Product Category</th>\n",
       "      <th></th>\n",
       "    </tr>\n",
       "  </thead>\n",
       "  <tbody>\n",
       "    <tr>\n",
       "      <th>Clothing</th>\n",
       "      <td>618580</td>\n",
       "    </tr>\n",
       "    <tr>\n",
       "      <th>Electronics</th>\n",
       "      <td>587517</td>\n",
       "    </tr>\n",
       "    <tr>\n",
       "      <th>Food</th>\n",
       "      <td>563214</td>\n",
       "    </tr>\n",
       "  </tbody>\n",
       "</table>\n",
       "</div>"
      ],
      "text/plain": [
       "                  Sales Volume\n",
       "Product Category              \n",
       "Clothing                618580\n",
       "Electronics             587517\n",
       "Food                    563214"
      ]
     },
     "execution_count": 95,
     "metadata": {},
     "output_type": "execute_result"
    }
   ],
   "source": [
    "df.groupby(by=['Product Category']).sum()[['Sales Volume']]   "
   ]
  },
  {
   "cell_type": "code",
   "execution_count": null,
   "id": "c7e30385",
   "metadata": {},
   "outputs": [],
   "source": [
    "# Inference\n",
    "# Highest number of products are purchased on clothing followed by electronic and food"
   ]
  },
  {
   "cell_type": "markdown",
   "id": "b02e7700",
   "metadata": {},
   "source": [
    "# Total sales based on Foot traffic"
   ]
  },
  {
   "cell_type": "code",
   "execution_count": 94,
   "id": "6af23b3a",
   "metadata": {},
   "outputs": [
    {
     "data": {
      "text/html": [
       "<div>\n",
       "<style scoped>\n",
       "    .dataframe tbody tr th:only-of-type {\n",
       "        vertical-align: middle;\n",
       "    }\n",
       "\n",
       "    .dataframe tbody tr th {\n",
       "        vertical-align: top;\n",
       "    }\n",
       "\n",
       "    .dataframe thead th {\n",
       "        text-align: right;\n",
       "    }\n",
       "</style>\n",
       "<table border=\"1\" class=\"dataframe\">\n",
       "  <thead>\n",
       "    <tr style=\"text-align: right;\">\n",
       "      <th></th>\n",
       "      <th>Sales Volume</th>\n",
       "    </tr>\n",
       "    <tr>\n",
       "      <th>Foot Traffic</th>\n",
       "      <th></th>\n",
       "    </tr>\n",
       "  </thead>\n",
       "  <tbody>\n",
       "    <tr>\n",
       "      <th>High</th>\n",
       "      <td>598166</td>\n",
       "    </tr>\n",
       "    <tr>\n",
       "      <th>Low</th>\n",
       "      <td>580813</td>\n",
       "    </tr>\n",
       "    <tr>\n",
       "      <th>Medium</th>\n",
       "      <td>590332</td>\n",
       "    </tr>\n",
       "  </tbody>\n",
       "</table>\n",
       "</div>"
      ],
      "text/plain": [
       "              Sales Volume\n",
       "Foot Traffic              \n",
       "High                598166\n",
       "Low                 580813\n",
       "Medium              590332"
      ]
     },
     "execution_count": 94,
     "metadata": {},
     "output_type": "execute_result"
    }
   ],
   "source": [
    "df.groupby(by=['Foot Traffic']).sum()[['Sales Volume']]   "
   ]
  },
  {
   "cell_type": "code",
   "execution_count": null,
   "id": "e4e1028a",
   "metadata": {},
   "outputs": [],
   "source": [
    "# Inference\n",
    "# when the foot traffic is high , sales volume is high \n",
    "# similarly when it is low, sales volume is low"
   ]
  },
  {
   "cell_type": "markdown",
   "id": "973eaf4b",
   "metadata": {},
   "source": [
    "# Total sales based on Seasonal"
   ]
  },
  {
   "cell_type": "code",
   "execution_count": 93,
   "id": "15691829",
   "metadata": {},
   "outputs": [
    {
     "data": {
      "text/html": [
       "<div>\n",
       "<style scoped>\n",
       "    .dataframe tbody tr th:only-of-type {\n",
       "        vertical-align: middle;\n",
       "    }\n",
       "\n",
       "    .dataframe tbody tr th {\n",
       "        vertical-align: top;\n",
       "    }\n",
       "\n",
       "    .dataframe thead th {\n",
       "        text-align: right;\n",
       "    }\n",
       "</style>\n",
       "<table border=\"1\" class=\"dataframe\">\n",
       "  <thead>\n",
       "    <tr style=\"text-align: right;\">\n",
       "      <th></th>\n",
       "      <th>Sales Volume</th>\n",
       "    </tr>\n",
       "    <tr>\n",
       "      <th>Seasonal</th>\n",
       "      <th></th>\n",
       "    </tr>\n",
       "  </thead>\n",
       "  <tbody>\n",
       "    <tr>\n",
       "      <th>No</th>\n",
       "      <td>865910</td>\n",
       "    </tr>\n",
       "    <tr>\n",
       "      <th>Yes</th>\n",
       "      <td>903401</td>\n",
       "    </tr>\n",
       "  </tbody>\n",
       "</table>\n",
       "</div>"
      ],
      "text/plain": [
       "          Sales Volume\n",
       "Seasonal              \n",
       "No              865910\n",
       "Yes             903401"
      ]
     },
     "execution_count": 93,
     "metadata": {},
     "output_type": "execute_result"
    }
   ],
   "source": [
    "df.groupby(by=['Seasonal']).sum()[['Sales Volume']]   "
   ]
  },
  {
   "cell_type": "code",
   "execution_count": null,
   "id": "016bf44c",
   "metadata": {},
   "outputs": [],
   "source": [
    "# Inference\n",
    "# sales volume is higher during the season time."
   ]
  },
  {
   "cell_type": "markdown",
   "id": "00039cba",
   "metadata": {},
   "source": [
    "# Total sales based on Promotion"
   ]
  },
  {
   "cell_type": "code",
   "execution_count": 92,
   "id": "f2167143",
   "metadata": {},
   "outputs": [
    {
     "data": {
      "text/html": [
       "<div>\n",
       "<style scoped>\n",
       "    .dataframe tbody tr th:only-of-type {\n",
       "        vertical-align: middle;\n",
       "    }\n",
       "\n",
       "    .dataframe tbody tr th {\n",
       "        vertical-align: top;\n",
       "    }\n",
       "\n",
       "    .dataframe thead th {\n",
       "        text-align: right;\n",
       "    }\n",
       "</style>\n",
       "<table border=\"1\" class=\"dataframe\">\n",
       "  <thead>\n",
       "    <tr style=\"text-align: right;\">\n",
       "      <th></th>\n",
       "      <th>Sales Volume</th>\n",
       "    </tr>\n",
       "    <tr>\n",
       "      <th>Promotion</th>\n",
       "      <th></th>\n",
       "    </tr>\n",
       "  </thead>\n",
       "  <tbody>\n",
       "    <tr>\n",
       "      <th>No</th>\n",
       "      <td>929927</td>\n",
       "    </tr>\n",
       "    <tr>\n",
       "      <th>Yes</th>\n",
       "      <td>839384</td>\n",
       "    </tr>\n",
       "  </tbody>\n",
       "</table>\n",
       "</div>"
      ],
      "text/plain": [
       "           Sales Volume\n",
       "Promotion              \n",
       "No               929927\n",
       "Yes              839384"
      ]
     },
     "execution_count": 92,
     "metadata": {},
     "output_type": "execute_result"
    }
   ],
   "source": [
    "df.groupby(by=['Promotion']).sum()[['Sales Volume']]   "
   ]
  },
  {
   "cell_type": "code",
   "execution_count": null,
   "id": "bf3e251c",
   "metadata": {},
   "outputs": [],
   "source": [
    "# Inference\n",
    "# sales volume is higher even without promotion.Hence promotion doesn't play a huge role in sales volume."
   ]
  },
  {
   "cell_type": "markdown",
   "id": "2e66204c",
   "metadata": {},
   "source": [
    "# Average Price and Competitor's price based on product category"
   ]
  },
  {
   "cell_type": "code",
   "execution_count": 46,
   "id": "c2d3c521",
   "metadata": {},
   "outputs": [
    {
     "data": {
      "text/html": [
       "<div>\n",
       "<style scoped>\n",
       "    .dataframe tbody tr th:only-of-type {\n",
       "        vertical-align: middle;\n",
       "    }\n",
       "\n",
       "    .dataframe tbody tr th {\n",
       "        vertical-align: top;\n",
       "    }\n",
       "\n",
       "    .dataframe thead tr th {\n",
       "        text-align: left;\n",
       "    }\n",
       "\n",
       "    .dataframe thead tr:last-of-type th {\n",
       "        text-align: right;\n",
       "    }\n",
       "</style>\n",
       "<table border=\"1\" class=\"dataframe\">\n",
       "  <thead>\n",
       "    <tr>\n",
       "      <th></th>\n",
       "      <th colspan=\"2\" halign=\"left\">mean</th>\n",
       "    </tr>\n",
       "    <tr>\n",
       "      <th></th>\n",
       "      <th>Competitor's Price</th>\n",
       "      <th>Price</th>\n",
       "    </tr>\n",
       "    <tr>\n",
       "      <th>Product Category</th>\n",
       "      <th></th>\n",
       "      <th></th>\n",
       "    </tr>\n",
       "  </thead>\n",
       "  <tbody>\n",
       "    <tr>\n",
       "      <th>Clothing</th>\n",
       "      <td>25.317663</td>\n",
       "      <td>27.750000</td>\n",
       "    </tr>\n",
       "    <tr>\n",
       "      <th>Electronics</th>\n",
       "      <td>25.405060</td>\n",
       "      <td>27.851101</td>\n",
       "    </tr>\n",
       "    <tr>\n",
       "      <th>Food</th>\n",
       "      <td>25.940613</td>\n",
       "      <td>28.474049</td>\n",
       "    </tr>\n",
       "  </tbody>\n",
       "</table>\n",
       "</div>"
      ],
      "text/plain": [
       "                               mean           \n",
       "                 Competitor's Price      Price\n",
       "Product Category                              \n",
       "Clothing                  25.317663  27.750000\n",
       "Electronics               25.405060  27.851101\n",
       "Food                      25.940613  28.474049"
      ]
     },
     "execution_count": 46,
     "metadata": {},
     "output_type": "execute_result"
    }
   ],
   "source": [
    "import matplotlib.pyplot as plt\n",
    "df_category = pd.pivot_table(df,index = [\"Product Category\"],values = [\"Price\",\"Competitor's Price\"],aggfunc = ['mean'])\n",
    "df_category\n",
    "\n"
   ]
  },
  {
   "cell_type": "code",
   "execution_count": 47,
   "id": "237377b0",
   "metadata": {},
   "outputs": [
    {
     "data": {
      "image/png": "[encoded data removed]",
      "text/plain": [
       "<Figure size 640x480 with 1 Axes>"
      ]
     },
     "metadata": {},
     "output_type": "display_data"
    }
   ],
   "source": [
    "df_category.plot(kind='bar', stacked=False);\n",
    "plt.title(\"Average price and competitor's price by Category\")\n",
    "plt.xlabel('Product Category')\n",
    "plt.ylabel(\"Average(Price,competitor's price)\")\n",
    "plt.show()\n"
   ]
  },
  {
   "cell_type": "code",
   "execution_count": 48,
   "id": "b0a3fdd7",
   "metadata": {},
   "outputs": [],
   "source": [
    "# Inference\n",
    "# I can clearly infer that the price of the store is slightly higher than the competitor's price which makes our product slightly less approachable by the consumer.\n",
    "# so i would suggest to reduce the price and provide more collections, offers and discount to increase the sales volume.\n",
    "# since promotion doesn't play a major role, i would suggest to do the above during the season time with high foot traffic."
   ]
  },
  {
   "cell_type": "markdown",
   "id": "dbe896d1",
   "metadata": {},
   "source": [
    "# Average Price and Competitor's price based on Product category and Consumer demographics"
   ]
  },
  {
   "cell_type": "code",
   "execution_count": 49,
   "id": "4af83b83",
   "metadata": {},
   "outputs": [
    {
     "data": {
      "text/html": [
       "<div>\n",
       "<style scoped>\n",
       "    .dataframe tbody tr th:only-of-type {\n",
       "        vertical-align: middle;\n",
       "    }\n",
       "\n",
       "    .dataframe tbody tr th {\n",
       "        vertical-align: top;\n",
       "    }\n",
       "\n",
       "    .dataframe thead tr th {\n",
       "        text-align: left;\n",
       "    }\n",
       "\n",
       "    .dataframe thead tr:last-of-type th {\n",
       "        text-align: right;\n",
       "    }\n",
       "</style>\n",
       "<table border=\"1\" class=\"dataframe\">\n",
       "  <thead>\n",
       "    <tr>\n",
       "      <th></th>\n",
       "      <th></th>\n",
       "      <th colspan=\"2\" halign=\"left\">mean</th>\n",
       "    </tr>\n",
       "    <tr>\n",
       "      <th></th>\n",
       "      <th></th>\n",
       "      <th>Competitor's Price</th>\n",
       "      <th>Price</th>\n",
       "    </tr>\n",
       "    <tr>\n",
       "      <th>Product Category</th>\n",
       "      <th>Consumer Demographics</th>\n",
       "      <th></th>\n",
       "      <th></th>\n",
       "    </tr>\n",
       "  </thead>\n",
       "  <tbody>\n",
       "    <tr>\n",
       "      <th rowspan=\"4\" valign=\"top\">Clothing</th>\n",
       "      <th>College students</th>\n",
       "      <td>24.469140</td>\n",
       "      <td>26.930108</td>\n",
       "    </tr>\n",
       "    <tr>\n",
       "      <th>Families</th>\n",
       "      <td>26.181702</td>\n",
       "      <td>28.543723</td>\n",
       "    </tr>\n",
       "    <tr>\n",
       "      <th>Seniors</th>\n",
       "      <td>24.601286</td>\n",
       "      <td>27.075286</td>\n",
       "    </tr>\n",
       "    <tr>\n",
       "      <th>Young adults</th>\n",
       "      <td>25.908272</td>\n",
       "      <td>28.353333</td>\n",
       "    </tr>\n",
       "    <tr>\n",
       "      <th rowspan=\"4\" valign=\"top\">Electronics</th>\n",
       "      <th>College students</th>\n",
       "      <td>26.378026</td>\n",
       "      <td>28.796842</td>\n",
       "    </tr>\n",
       "    <tr>\n",
       "      <th>Families</th>\n",
       "      <td>24.864643</td>\n",
       "      <td>27.475833</td>\n",
       "    </tr>\n",
       "    <tr>\n",
       "      <th>Seniors</th>\n",
       "      <td>25.690989</td>\n",
       "      <td>28.228791</td>\n",
       "    </tr>\n",
       "    <tr>\n",
       "      <th>Young adults</th>\n",
       "      <td>24.763059</td>\n",
       "      <td>26.972000</td>\n",
       "    </tr>\n",
       "    <tr>\n",
       "      <th rowspan=\"4\" valign=\"top\">Food</th>\n",
       "      <th>College students</th>\n",
       "      <td>26.046098</td>\n",
       "      <td>28.816829</td>\n",
       "    </tr>\n",
       "    <tr>\n",
       "      <th>Families</th>\n",
       "      <td>27.090353</td>\n",
       "      <td>29.422471</td>\n",
       "    </tr>\n",
       "    <tr>\n",
       "      <th>Seniors</th>\n",
       "      <td>24.835909</td>\n",
       "      <td>27.491818</td>\n",
       "    </tr>\n",
       "    <tr>\n",
       "      <th>Young adults</th>\n",
       "      <td>25.811549</td>\n",
       "      <td>28.160141</td>\n",
       "    </tr>\n",
       "  </tbody>\n",
       "</table>\n",
       "</div>"
      ],
      "text/plain": [
       "                                                     mean           \n",
       "                                       Competitor's Price      Price\n",
       "Product Category Consumer Demographics                              \n",
       "Clothing         College students               24.469140  26.930108\n",
       "                 Families                       26.181702  28.543723\n",
       "                 Seniors                        24.601286  27.075286\n",
       "                 Young adults                   25.908272  28.353333\n",
       "Electronics      College students               26.378026  28.796842\n",
       "                 Families                       24.864643  27.475833\n",
       "                 Seniors                        25.690989  28.228791\n",
       "                 Young adults                   24.763059  26.972000\n",
       "Food             College students               26.046098  28.816829\n",
       "                 Families                       27.090353  29.422471\n",
       "                 Seniors                        24.835909  27.491818\n",
       "                 Young adults                   25.811549  28.160141"
      ]
     },
     "execution_count": 49,
     "metadata": {},
     "output_type": "execute_result"
    }
   ],
   "source": [
    "df_consumer = pd.pivot_table(df,index = [\"Product Category\",\"Consumer Demographics\"],values = [\"Price\",\"Competitor's Price\"],aggfunc = ['mean'])\n",
    "df_consumer"
   ]
  },
  {
   "cell_type": "code",
   "execution_count": 50,
   "id": "b86f2e8a",
   "metadata": {},
   "outputs": [
    {
     "data": {
      "text/html": [
       "<div>\n",
       "<style scoped>\n",
       "    .dataframe tbody tr th:only-of-type {\n",
       "        vertical-align: middle;\n",
       "    }\n",
       "\n",
       "    .dataframe tbody tr th {\n",
       "        vertical-align: top;\n",
       "    }\n",
       "\n",
       "    .dataframe thead th {\n",
       "        text-align: right;\n",
       "    }\n",
       "</style>\n",
       "<table border=\"1\" class=\"dataframe\">\n",
       "  <thead>\n",
       "    <tr style=\"text-align: right;\">\n",
       "      <th></th>\n",
       "      <th></th>\n",
       "      <th>Sales Volume</th>\n",
       "      <th>Rank</th>\n",
       "    </tr>\n",
       "    <tr>\n",
       "      <th>Product Category</th>\n",
       "      <th>Consumer Demographics</th>\n",
       "      <th></th>\n",
       "      <th></th>\n",
       "    </tr>\n",
       "  </thead>\n",
       "  <tbody>\n",
       "    <tr>\n",
       "      <th rowspan=\"4\" valign=\"top\">Clothing</th>\n",
       "      <th>College students</th>\n",
       "      <td>174828</td>\n",
       "      <td>4.0</td>\n",
       "    </tr>\n",
       "    <tr>\n",
       "      <th>Families</th>\n",
       "      <td>169568</td>\n",
       "      <td>3.0</td>\n",
       "    </tr>\n",
       "    <tr>\n",
       "      <th>Seniors</th>\n",
       "      <td>124201</td>\n",
       "      <td>1.0</td>\n",
       "    </tr>\n",
       "    <tr>\n",
       "      <th>Young adults</th>\n",
       "      <td>149983</td>\n",
       "      <td>2.0</td>\n",
       "    </tr>\n",
       "    <tr>\n",
       "      <th rowspan=\"4\" valign=\"top\">Electronics</th>\n",
       "      <th>College students</th>\n",
       "      <td>135410</td>\n",
       "      <td>2.0</td>\n",
       "    </tr>\n",
       "    <tr>\n",
       "      <th>Families</th>\n",
       "      <td>135220</td>\n",
       "      <td>1.0</td>\n",
       "    </tr>\n",
       "    <tr>\n",
       "      <th>Seniors</th>\n",
       "      <td>161576</td>\n",
       "      <td>4.0</td>\n",
       "    </tr>\n",
       "    <tr>\n",
       "      <th>Young adults</th>\n",
       "      <td>155311</td>\n",
       "      <td>3.0</td>\n",
       "    </tr>\n",
       "    <tr>\n",
       "      <th rowspan=\"4\" valign=\"top\">Food</th>\n",
       "      <th>College students</th>\n",
       "      <td>139825</td>\n",
       "      <td>3.0</td>\n",
       "    </tr>\n",
       "    <tr>\n",
       "      <th>Families</th>\n",
       "      <td>138488</td>\n",
       "      <td>2.0</td>\n",
       "    </tr>\n",
       "    <tr>\n",
       "      <th>Seniors</th>\n",
       "      <td>158312</td>\n",
       "      <td>4.0</td>\n",
       "    </tr>\n",
       "    <tr>\n",
       "      <th>Young adults</th>\n",
       "      <td>126589</td>\n",
       "      <td>1.0</td>\n",
       "    </tr>\n",
       "  </tbody>\n",
       "</table>\n",
       "</div>"
      ],
      "text/plain": [
       "                                        Sales Volume  Rank\n",
       "Product Category Consumer Demographics                    \n",
       "Clothing         College students             174828   4.0\n",
       "                 Families                     169568   3.0\n",
       "                 Seniors                      124201   1.0\n",
       "                 Young adults                 149983   2.0\n",
       "Electronics      College students             135410   2.0\n",
       "                 Families                     135220   1.0\n",
       "                 Seniors                      161576   4.0\n",
       "                 Young adults                 155311   3.0\n",
       "Food             College students             139825   3.0\n",
       "                 Families                     138488   2.0\n",
       "                 Seniors                      158312   4.0\n",
       "                 Young adults                 126589   1.0"
      ]
     },
     "execution_count": 50,
     "metadata": {},
     "output_type": "execute_result"
    }
   ],
   "source": [
    "df_consumer1 = df.groupby(by=['Product Category','Consumer Demographics']).sum()[['Sales Volume']]\n",
    "df_consumer1['Rank'] = df_consumer1.groupby('Product Category')['Sales Volume'].rank(method = 'first')\n",
    "df_consumer1"
   ]
  },
  {
   "cell_type": "code",
   "execution_count": 51,
   "id": "5bf26eac",
   "metadata": {},
   "outputs": [],
   "source": [
    "\n",
    "# Inference\n",
    "# Lowest buyers of clothing are Seniors and young adults\n",
    "# Lowest buyers of electronics are families and college students\n",
    "# Lowest buyers of food are young adults and families \n",
    " \n",
    "# since Competitor's price is lesser than our price, i would suggest to provide discounts to the \n",
    "# lowest buyers of target customers in each category which might increase the sales volume.\n",
    "# eg: providing discounts and different offers for Seniors and young adults on clothing which will attract the customers.\n"
   ]
  },
  {
   "cell_type": "markdown",
   "id": "fa1b5f71",
   "metadata": {},
   "source": [
    "# Average Price and Competitor's price based on Seasonality"
   ]
  },
  {
   "cell_type": "code",
   "execution_count": 52,
   "id": "8f8e322c",
   "metadata": {},
   "outputs": [
    {
     "data": {
      "text/html": [
       "<div>\n",
       "<style scoped>\n",
       "    .dataframe tbody tr th:only-of-type {\n",
       "        vertical-align: middle;\n",
       "    }\n",
       "\n",
       "    .dataframe tbody tr th {\n",
       "        vertical-align: top;\n",
       "    }\n",
       "\n",
       "    .dataframe thead tr th {\n",
       "        text-align: left;\n",
       "    }\n",
       "\n",
       "    .dataframe thead tr:last-of-type th {\n",
       "        text-align: right;\n",
       "    }\n",
       "</style>\n",
       "<table border=\"1\" class=\"dataframe\">\n",
       "  <thead>\n",
       "    <tr>\n",
       "      <th></th>\n",
       "      <th colspan=\"2\" halign=\"left\">mean</th>\n",
       "    </tr>\n",
       "    <tr>\n",
       "      <th></th>\n",
       "      <th>Competitor's Price</th>\n",
       "      <th>Price</th>\n",
       "    </tr>\n",
       "    <tr>\n",
       "      <th>Seasonal</th>\n",
       "      <th></th>\n",
       "      <th></th>\n",
       "    </tr>\n",
       "  </thead>\n",
       "  <tbody>\n",
       "    <tr>\n",
       "      <th>No</th>\n",
       "      <td>25.117798</td>\n",
       "      <td>27.521354</td>\n",
       "    </tr>\n",
       "    <tr>\n",
       "      <th>Yes</th>\n",
       "      <td>25.973861</td>\n",
       "      <td>28.508792</td>\n",
       "    </tr>\n",
       "  </tbody>\n",
       "</table>\n",
       "</div>"
      ],
      "text/plain": [
       "                       mean           \n",
       "         Competitor's Price      Price\n",
       "Seasonal                              \n",
       "No                25.117798  27.521354\n",
       "Yes               25.973861  28.508792"
      ]
     },
     "execution_count": 52,
     "metadata": {},
     "output_type": "execute_result"
    }
   ],
   "source": [
    "df_season = pd.pivot_table(df,index = [\"Seasonal\"],values = [\"Price\",\"Competitor's Price\"],aggfunc = ['mean'])\n",
    "df_season"
   ]
  },
  {
   "cell_type": "code",
   "execution_count": 55,
   "id": "42a359e5",
   "metadata": {},
   "outputs": [
    {
     "data": {
      "text/html": [
       "<div>\n",
       "<style scoped>\n",
       "    .dataframe tbody tr th:only-of-type {\n",
       "        vertical-align: middle;\n",
       "    }\n",
       "\n",
       "    .dataframe tbody tr th {\n",
       "        vertical-align: top;\n",
       "    }\n",
       "\n",
       "    .dataframe thead th {\n",
       "        text-align: right;\n",
       "    }\n",
       "</style>\n",
       "<table border=\"1\" class=\"dataframe\">\n",
       "  <thead>\n",
       "    <tr style=\"text-align: right;\">\n",
       "      <th></th>\n",
       "      <th>Sales Volume</th>\n",
       "    </tr>\n",
       "    <tr>\n",
       "      <th>Seasonal</th>\n",
       "      <th></th>\n",
       "    </tr>\n",
       "  </thead>\n",
       "  <tbody>\n",
       "    <tr>\n",
       "      <th>No</th>\n",
       "      <td>865910</td>\n",
       "    </tr>\n",
       "    <tr>\n",
       "      <th>Yes</th>\n",
       "      <td>903401</td>\n",
       "    </tr>\n",
       "  </tbody>\n",
       "</table>\n",
       "</div>"
      ],
      "text/plain": [
       "          Sales Volume\n",
       "Seasonal              \n",
       "No              865910\n",
       "Yes             903401"
      ]
     },
     "execution_count": 55,
     "metadata": {},
     "output_type": "execute_result"
    }
   ],
   "source": [
    "df_season1 = df.groupby(by=['Seasonal']).sum()[['Sales Volume']]\n",
    "df_season1"
   ]
  },
  {
   "cell_type": "code",
   "execution_count": null,
   "id": "7850ed5a",
   "metadata": {},
   "outputs": [],
   "source": [
    "# Inference\n",
    "# sales volume has increased during the seasonal time "
   ]
  },
  {
   "cell_type": "markdown",
   "id": "5b54072e",
   "metadata": {},
   "source": [
    "# Combinations with sales volume"
   ]
  },
  {
   "cell_type": "code",
   "execution_count": 98,
   "id": "ea6fe766",
   "metadata": {},
   "outputs": [
    {
     "data": {
      "text/html": [
       "<div>\n",
       "<style scoped>\n",
       "    .dataframe tbody tr th:only-of-type {\n",
       "        vertical-align: middle;\n",
       "    }\n",
       "\n",
       "    .dataframe tbody tr th {\n",
       "        vertical-align: top;\n",
       "    }\n",
       "\n",
       "    .dataframe thead th {\n",
       "        text-align: right;\n",
       "    }\n",
       "</style>\n",
       "<table border=\"1\" class=\"dataframe\">\n",
       "  <thead>\n",
       "    <tr style=\"text-align: right;\">\n",
       "      <th></th>\n",
       "      <th></th>\n",
       "      <th></th>\n",
       "      <th>Sales Volume</th>\n",
       "      <th>Rank</th>\n",
       "    </tr>\n",
       "    <tr>\n",
       "      <th>Product Position</th>\n",
       "      <th>Product Category</th>\n",
       "      <th>Consumer Demographics</th>\n",
       "      <th></th>\n",
       "      <th></th>\n",
       "    </tr>\n",
       "  </thead>\n",
       "  <tbody>\n",
       "    <tr>\n",
       "      <th rowspan=\"12\" valign=\"top\">Aisle</th>\n",
       "      <th rowspan=\"4\" valign=\"top\">Clothing</th>\n",
       "      <th>College students</th>\n",
       "      <td>49391</td>\n",
       "      <td>2.0</td>\n",
       "    </tr>\n",
       "    <tr>\n",
       "      <th>Families</th>\n",
       "      <td>57062</td>\n",
       "      <td>4.0</td>\n",
       "    </tr>\n",
       "    <tr>\n",
       "      <th>Seniors</th>\n",
       "      <td>49752</td>\n",
       "      <td>3.0</td>\n",
       "    </tr>\n",
       "    <tr>\n",
       "      <th>Young adults</th>\n",
       "      <td>49067</td>\n",
       "      <td>1.0</td>\n",
       "    </tr>\n",
       "    <tr>\n",
       "      <th rowspan=\"4\" valign=\"top\">Electronics</th>\n",
       "      <th>College students</th>\n",
       "      <td>36004</td>\n",
       "      <td>1.0</td>\n",
       "    </tr>\n",
       "    <tr>\n",
       "      <th>Families</th>\n",
       "      <td>52457</td>\n",
       "      <td>3.0</td>\n",
       "    </tr>\n",
       "    <tr>\n",
       "      <th>Seniors</th>\n",
       "      <td>70133</td>\n",
       "      <td>4.0</td>\n",
       "    </tr>\n",
       "    <tr>\n",
       "      <th>Young adults</th>\n",
       "      <td>49777</td>\n",
       "      <td>2.0</td>\n",
       "    </tr>\n",
       "    <tr>\n",
       "      <th rowspan=\"4\" valign=\"top\">Food</th>\n",
       "      <th>College students</th>\n",
       "      <td>52894</td>\n",
       "      <td>3.0</td>\n",
       "    </tr>\n",
       "    <tr>\n",
       "      <th>Families</th>\n",
       "      <td>46650</td>\n",
       "      <td>2.0</td>\n",
       "    </tr>\n",
       "    <tr>\n",
       "      <th>Seniors</th>\n",
       "      <td>55437</td>\n",
       "      <td>4.0</td>\n",
       "    </tr>\n",
       "    <tr>\n",
       "      <th>Young adults</th>\n",
       "      <td>36846</td>\n",
       "      <td>1.0</td>\n",
       "    </tr>\n",
       "    <tr>\n",
       "      <th rowspan=\"12\" valign=\"top\">End-cap</th>\n",
       "      <th rowspan=\"4\" valign=\"top\">Clothing</th>\n",
       "      <th>College students</th>\n",
       "      <td>61752</td>\n",
       "      <td>4.0</td>\n",
       "    </tr>\n",
       "    <tr>\n",
       "      <th>Families</th>\n",
       "      <td>61532</td>\n",
       "      <td>3.0</td>\n",
       "    </tr>\n",
       "    <tr>\n",
       "      <th>Seniors</th>\n",
       "      <td>40248</td>\n",
       "      <td>1.0</td>\n",
       "    </tr>\n",
       "    <tr>\n",
       "      <th>Young adults</th>\n",
       "      <td>51634</td>\n",
       "      <td>2.0</td>\n",
       "    </tr>\n",
       "    <tr>\n",
       "      <th rowspan=\"4\" valign=\"top\">Electronics</th>\n",
       "      <th>College students</th>\n",
       "      <td>48567</td>\n",
       "      <td>2.0</td>\n",
       "    </tr>\n",
       "    <tr>\n",
       "      <th>Families</th>\n",
       "      <td>39642</td>\n",
       "      <td>1.0</td>\n",
       "    </tr>\n",
       "    <tr>\n",
       "      <th>Seniors</th>\n",
       "      <td>60911</td>\n",
       "      <td>4.0</td>\n",
       "    </tr>\n",
       "    <tr>\n",
       "      <th>Young adults</th>\n",
       "      <td>56604</td>\n",
       "      <td>3.0</td>\n",
       "    </tr>\n",
       "    <tr>\n",
       "      <th rowspan=\"4\" valign=\"top\">Food</th>\n",
       "      <th>College students</th>\n",
       "      <td>47802</td>\n",
       "      <td>4.0</td>\n",
       "    </tr>\n",
       "    <tr>\n",
       "      <th>Families</th>\n",
       "      <td>42658</td>\n",
       "      <td>1.0</td>\n",
       "    </tr>\n",
       "    <tr>\n",
       "      <th>Seniors</th>\n",
       "      <td>45099</td>\n",
       "      <td>3.0</td>\n",
       "    </tr>\n",
       "    <tr>\n",
       "      <th>Young adults</th>\n",
       "      <td>43468</td>\n",
       "      <td>2.0</td>\n",
       "    </tr>\n",
       "    <tr>\n",
       "      <th rowspan=\"12\" valign=\"top\">Front of Store</th>\n",
       "      <th rowspan=\"4\" valign=\"top\">Clothing</th>\n",
       "      <th>College students</th>\n",
       "      <td>63685</td>\n",
       "      <td>4.0</td>\n",
       "    </tr>\n",
       "    <tr>\n",
       "      <th>Families</th>\n",
       "      <td>50974</td>\n",
       "      <td>3.0</td>\n",
       "    </tr>\n",
       "    <tr>\n",
       "      <th>Seniors</th>\n",
       "      <td>34201</td>\n",
       "      <td>1.0</td>\n",
       "    </tr>\n",
       "    <tr>\n",
       "      <th>Young adults</th>\n",
       "      <td>49282</td>\n",
       "      <td>2.0</td>\n",
       "    </tr>\n",
       "    <tr>\n",
       "      <th rowspan=\"4\" valign=\"top\">Electronics</th>\n",
       "      <th>College students</th>\n",
       "      <td>50839</td>\n",
       "      <td>4.0</td>\n",
       "    </tr>\n",
       "    <tr>\n",
       "      <th>Families</th>\n",
       "      <td>43121</td>\n",
       "      <td>2.0</td>\n",
       "    </tr>\n",
       "    <tr>\n",
       "      <th>Seniors</th>\n",
       "      <td>30532</td>\n",
       "      <td>1.0</td>\n",
       "    </tr>\n",
       "    <tr>\n",
       "      <th>Young adults</th>\n",
       "      <td>48930</td>\n",
       "      <td>3.0</td>\n",
       "    </tr>\n",
       "    <tr>\n",
       "      <th rowspan=\"4\" valign=\"top\">Food</th>\n",
       "      <th>College students</th>\n",
       "      <td>39129</td>\n",
       "      <td>1.0</td>\n",
       "    </tr>\n",
       "    <tr>\n",
       "      <th>Families</th>\n",
       "      <td>49180</td>\n",
       "      <td>3.0</td>\n",
       "    </tr>\n",
       "    <tr>\n",
       "      <th>Seniors</th>\n",
       "      <td>57776</td>\n",
       "      <td>4.0</td>\n",
       "    </tr>\n",
       "    <tr>\n",
       "      <th>Young adults</th>\n",
       "      <td>46275</td>\n",
       "      <td>2.0</td>\n",
       "    </tr>\n",
       "  </tbody>\n",
       "</table>\n",
       "</div>"
      ],
      "text/plain": [
       "                                                         Sales Volume  Rank\n",
       "Product Position Product Category Consumer Demographics                    \n",
       "Aisle            Clothing         College students              49391   2.0\n",
       "                                  Families                      57062   4.0\n",
       "                                  Seniors                       49752   3.0\n",
       "                                  Young adults                  49067   1.0\n",
       "                 Electronics      College students              36004   1.0\n",
       "                                  Families                      52457   3.0\n",
       "                                  Seniors                       70133   4.0\n",
       "                                  Young adults                  49777   2.0\n",
       "                 Food             College students              52894   3.0\n",
       "                                  Families                      46650   2.0\n",
       "                                  Seniors                       55437   4.0\n",
       "                                  Young adults                  36846   1.0\n",
       "End-cap          Clothing         College students              61752   4.0\n",
       "                                  Families                      61532   3.0\n",
       "                                  Seniors                       40248   1.0\n",
       "                                  Young adults                  51634   2.0\n",
       "                 Electronics      College students              48567   2.0\n",
       "                                  Families                      39642   1.0\n",
       "                                  Seniors                       60911   4.0\n",
       "                                  Young adults                  56604   3.0\n",
       "                 Food             College students              47802   4.0\n",
       "                                  Families                      42658   1.0\n",
       "                                  Seniors                       45099   3.0\n",
       "                                  Young adults                  43468   2.0\n",
       "Front of Store   Clothing         College students              63685   4.0\n",
       "                                  Families                      50974   3.0\n",
       "                                  Seniors                       34201   1.0\n",
       "                                  Young adults                  49282   2.0\n",
       "                 Electronics      College students              50839   4.0\n",
       "                                  Families                      43121   2.0\n",
       "                                  Seniors                       30532   1.0\n",
       "                                  Young adults                  48930   3.0\n",
       "                 Food             College students              39129   1.0\n",
       "                                  Families                      49180   3.0\n",
       "                                  Seniors                       57776   4.0\n",
       "                                  Young adults                  46275   2.0"
      ]
     },
     "execution_count": 98,
     "metadata": {},
     "output_type": "execute_result"
    }
   ],
   "source": [
    "grouped_df1 = df.groupby(by=['Product Position','Product Category','Consumer Demographics']).sum()[['Sales Volume']]   \n",
    "\n",
    "grouped_df1['Rank'] = grouped_df1.groupby(by=['Product Position','Product Category'])['Sales Volume'].rank(method = 'first')\n",
    "grouped_df1"
   ]
  },
  {
   "cell_type": "code",
   "execution_count": null,
   "id": "fcb22420",
   "metadata": {},
   "outputs": [],
   "source": []
  },
  {
   "cell_type": "code",
   "execution_count": 67,
   "id": "8fb7521f",
   "metadata": {},
   "outputs": [
    {
     "data": {
      "text/html": [
       "<div>\n",
       "<style scoped>\n",
       "    .dataframe tbody tr th:only-of-type {\n",
       "        vertical-align: middle;\n",
       "    }\n",
       "\n",
       "    .dataframe tbody tr th {\n",
       "        vertical-align: top;\n",
       "    }\n",
       "\n",
       "    .dataframe thead th {\n",
       "        text-align: right;\n",
       "    }\n",
       "</style>\n",
       "<table border=\"1\" class=\"dataframe\">\n",
       "  <thead>\n",
       "    <tr style=\"text-align: right;\">\n",
       "      <th></th>\n",
       "      <th></th>\n",
       "      <th></th>\n",
       "      <th>Sales Volume</th>\n",
       "      <th>Rank</th>\n",
       "    </tr>\n",
       "    <tr>\n",
       "      <th>Product Category</th>\n",
       "      <th>Promotion</th>\n",
       "      <th>Consumer Demographics</th>\n",
       "      <th></th>\n",
       "      <th></th>\n",
       "    </tr>\n",
       "  </thead>\n",
       "  <tbody>\n",
       "    <tr>\n",
       "      <th rowspan=\"8\" valign=\"top\">Clothing</th>\n",
       "      <th rowspan=\"4\" valign=\"top\">No</th>\n",
       "      <th>College students</th>\n",
       "      <td>108590</td>\n",
       "      <td>4.0</td>\n",
       "    </tr>\n",
       "    <tr>\n",
       "      <th>Families</th>\n",
       "      <td>90175</td>\n",
       "      <td>3.0</td>\n",
       "    </tr>\n",
       "    <tr>\n",
       "      <th>Seniors</th>\n",
       "      <td>67903</td>\n",
       "      <td>1.0</td>\n",
       "    </tr>\n",
       "    <tr>\n",
       "      <th>Young adults</th>\n",
       "      <td>84722</td>\n",
       "      <td>2.0</td>\n",
       "    </tr>\n",
       "    <tr>\n",
       "      <th rowspan=\"4\" valign=\"top\">Yes</th>\n",
       "      <th>College students</th>\n",
       "      <td>66238</td>\n",
       "      <td>3.0</td>\n",
       "    </tr>\n",
       "    <tr>\n",
       "      <th>Families</th>\n",
       "      <td>79393</td>\n",
       "      <td>4.0</td>\n",
       "    </tr>\n",
       "    <tr>\n",
       "      <th>Seniors</th>\n",
       "      <td>56298</td>\n",
       "      <td>1.0</td>\n",
       "    </tr>\n",
       "    <tr>\n",
       "      <th>Young adults</th>\n",
       "      <td>65261</td>\n",
       "      <td>2.0</td>\n",
       "    </tr>\n",
       "    <tr>\n",
       "      <th rowspan=\"8\" valign=\"top\">Electronics</th>\n",
       "      <th rowspan=\"4\" valign=\"top\">No</th>\n",
       "      <th>College students</th>\n",
       "      <td>58958</td>\n",
       "      <td>1.0</td>\n",
       "    </tr>\n",
       "    <tr>\n",
       "      <th>Families</th>\n",
       "      <td>64599</td>\n",
       "      <td>2.0</td>\n",
       "    </tr>\n",
       "    <tr>\n",
       "      <th>Seniors</th>\n",
       "      <td>95431</td>\n",
       "      <td>4.0</td>\n",
       "    </tr>\n",
       "    <tr>\n",
       "      <th>Young adults</th>\n",
       "      <td>77815</td>\n",
       "      <td>3.0</td>\n",
       "    </tr>\n",
       "    <tr>\n",
       "      <th rowspan=\"4\" valign=\"top\">Yes</th>\n",
       "      <th>College students</th>\n",
       "      <td>76452</td>\n",
       "      <td>3.0</td>\n",
       "    </tr>\n",
       "    <tr>\n",
       "      <th>Families</th>\n",
       "      <td>70621</td>\n",
       "      <td>2.0</td>\n",
       "    </tr>\n",
       "    <tr>\n",
       "      <th>Seniors</th>\n",
       "      <td>66145</td>\n",
       "      <td>1.0</td>\n",
       "    </tr>\n",
       "    <tr>\n",
       "      <th>Young adults</th>\n",
       "      <td>77496</td>\n",
       "      <td>4.0</td>\n",
       "    </tr>\n",
       "    <tr>\n",
       "      <th rowspan=\"8\" valign=\"top\">Food</th>\n",
       "      <th rowspan=\"4\" valign=\"top\">No</th>\n",
       "      <th>College students</th>\n",
       "      <td>70162</td>\n",
       "      <td>3.0</td>\n",
       "    </tr>\n",
       "    <tr>\n",
       "      <th>Families</th>\n",
       "      <td>69275</td>\n",
       "      <td>2.0</td>\n",
       "    </tr>\n",
       "    <tr>\n",
       "      <th>Seniors</th>\n",
       "      <td>83966</td>\n",
       "      <td>4.0</td>\n",
       "    </tr>\n",
       "    <tr>\n",
       "      <th>Young adults</th>\n",
       "      <td>58331</td>\n",
       "      <td>1.0</td>\n",
       "    </tr>\n",
       "    <tr>\n",
       "      <th rowspan=\"4\" valign=\"top\">Yes</th>\n",
       "      <th>College students</th>\n",
       "      <td>69663</td>\n",
       "      <td>3.0</td>\n",
       "    </tr>\n",
       "    <tr>\n",
       "      <th>Families</th>\n",
       "      <td>69213</td>\n",
       "      <td>2.0</td>\n",
       "    </tr>\n",
       "    <tr>\n",
       "      <th>Seniors</th>\n",
       "      <td>74346</td>\n",
       "      <td>4.0</td>\n",
       "    </tr>\n",
       "    <tr>\n",
       "      <th>Young adults</th>\n",
       "      <td>68258</td>\n",
       "      <td>1.0</td>\n",
       "    </tr>\n",
       "  </tbody>\n",
       "</table>\n",
       "</div>"
      ],
      "text/plain": [
       "                                                  Sales Volume  Rank\n",
       "Product Category Promotion Consumer Demographics                    \n",
       "Clothing         No        College students             108590   4.0\n",
       "                           Families                      90175   3.0\n",
       "                           Seniors                       67903   1.0\n",
       "                           Young adults                  84722   2.0\n",
       "                 Yes       College students              66238   3.0\n",
       "                           Families                      79393   4.0\n",
       "                           Seniors                       56298   1.0\n",
       "                           Young adults                  65261   2.0\n",
       "Electronics      No        College students              58958   1.0\n",
       "                           Families                      64599   2.0\n",
       "                           Seniors                       95431   4.0\n",
       "                           Young adults                  77815   3.0\n",
       "                 Yes       College students              76452   3.0\n",
       "                           Families                      70621   2.0\n",
       "                           Seniors                       66145   1.0\n",
       "                           Young adults                  77496   4.0\n",
       "Food             No        College students              70162   3.0\n",
       "                           Families                      69275   2.0\n",
       "                           Seniors                       83966   4.0\n",
       "                           Young adults                  58331   1.0\n",
       "                 Yes       College students              69663   3.0\n",
       "                           Families                      69213   2.0\n",
       "                           Seniors                       74346   4.0\n",
       "                           Young adults                  68258   1.0"
      ]
     },
     "execution_count": 67,
     "metadata": {},
     "output_type": "execute_result"
    }
   ],
   "source": [
    "grouped_df2 = df.groupby(by=['Product Category','Promotion','Consumer Demographics']).sum()[['Sales Volume']]\n",
    "grouped_df2['Rank'] = grouped_df2.groupby(by=['Product Category','Promotion'])['Sales Volume'].rank(method = 'first')\n",
    "grouped_df2"
   ]
  },
  {
   "cell_type": "code",
   "execution_count": null,
   "id": "03939035",
   "metadata": {},
   "outputs": [],
   "source": []
  },
  {
   "cell_type": "code",
   "execution_count": 71,
   "id": "3e7d7cd5",
   "metadata": {},
   "outputs": [
    {
     "data": {
      "text/html": [
       "<div>\n",
       "<style scoped>\n",
       "    .dataframe tbody tr th:only-of-type {\n",
       "        vertical-align: middle;\n",
       "    }\n",
       "\n",
       "    .dataframe tbody tr th {\n",
       "        vertical-align: top;\n",
       "    }\n",
       "\n",
       "    .dataframe thead th {\n",
       "        text-align: right;\n",
       "    }\n",
       "</style>\n",
       "<table border=\"1\" class=\"dataframe\">\n",
       "  <thead>\n",
       "    <tr style=\"text-align: right;\">\n",
       "      <th></th>\n",
       "      <th></th>\n",
       "      <th>Sales Volume</th>\n",
       "    </tr>\n",
       "    <tr>\n",
       "      <th>Promotion</th>\n",
       "      <th>Product Position</th>\n",
       "      <th></th>\n",
       "    </tr>\n",
       "  </thead>\n",
       "  <tbody>\n",
       "    <tr>\n",
       "      <th rowspan=\"3\" valign=\"top\">No</th>\n",
       "      <th>Aisle</th>\n",
       "      <td>303795</td>\n",
       "    </tr>\n",
       "    <tr>\n",
       "      <th>End-cap</th>\n",
       "      <td>324093</td>\n",
       "    </tr>\n",
       "    <tr>\n",
       "      <th>Front of Store</th>\n",
       "      <td>302039</td>\n",
       "    </tr>\n",
       "    <tr>\n",
       "      <th rowspan=\"3\" valign=\"top\">Yes</th>\n",
       "      <th>Aisle</th>\n",
       "      <td>301675</td>\n",
       "    </tr>\n",
       "    <tr>\n",
       "      <th>End-cap</th>\n",
       "      <td>275824</td>\n",
       "    </tr>\n",
       "    <tr>\n",
       "      <th>Front of Store</th>\n",
       "      <td>261885</td>\n",
       "    </tr>\n",
       "  </tbody>\n",
       "</table>\n",
       "</div>"
      ],
      "text/plain": [
       "                            Sales Volume\n",
       "Promotion Product Position              \n",
       "No        Aisle                   303795\n",
       "          End-cap                 324093\n",
       "          Front of Store          302039\n",
       "Yes       Aisle                   301675\n",
       "          End-cap                 275824\n",
       "          Front of Store          261885"
      ]
     },
     "execution_count": 71,
     "metadata": {},
     "output_type": "execute_result"
    }
   ],
   "source": [
    "grouped_df3 = df.groupby(by=['Promotion','Product Position']).sum()[['Sales Volume']]\n",
    "grouped_df3"
   ]
  },
  {
   "cell_type": "code",
   "execution_count": 68,
   "id": "2d60cb4f",
   "metadata": {},
   "outputs": [
    {
     "data": {
      "text/html": [
       "<div>\n",
       "<style scoped>\n",
       "    .dataframe tbody tr th:only-of-type {\n",
       "        vertical-align: middle;\n",
       "    }\n",
       "\n",
       "    .dataframe tbody tr th {\n",
       "        vertical-align: top;\n",
       "    }\n",
       "\n",
       "    .dataframe thead tr th {\n",
       "        text-align: left;\n",
       "    }\n",
       "\n",
       "    .dataframe thead tr:last-of-type th {\n",
       "        text-align: right;\n",
       "    }\n",
       "</style>\n",
       "<table border=\"1\" class=\"dataframe\">\n",
       "  <thead>\n",
       "    <tr>\n",
       "      <th></th>\n",
       "      <th colspan=\"2\" halign=\"left\">mean</th>\n",
       "    </tr>\n",
       "    <tr>\n",
       "      <th></th>\n",
       "      <th colspan=\"2\" halign=\"left\">Sales Volume</th>\n",
       "    </tr>\n",
       "    <tr>\n",
       "      <th>Promotion</th>\n",
       "      <th>No</th>\n",
       "      <th>Yes</th>\n",
       "    </tr>\n",
       "    <tr>\n",
       "      <th>Product Position</th>\n",
       "      <th></th>\n",
       "      <th></th>\n",
       "    </tr>\n",
       "  </thead>\n",
       "  <tbody>\n",
       "    <tr>\n",
       "      <th>Aisle</th>\n",
       "      <td>1776.578947</td>\n",
       "      <td>1785.059172</td>\n",
       "    </tr>\n",
       "    <tr>\n",
       "      <th>End-cap</th>\n",
       "      <td>1714.777778</td>\n",
       "      <td>1802.771242</td>\n",
       "    </tr>\n",
       "    <tr>\n",
       "      <th>Front of Store</th>\n",
       "      <td>1797.851190</td>\n",
       "      <td>1745.900000</td>\n",
       "    </tr>\n",
       "  </tbody>\n",
       "</table>\n",
       "</div>"
      ],
      "text/plain": [
       "                         mean             \n",
       "                 Sales Volume             \n",
       "Promotion                  No          Yes\n",
       "Product Position                          \n",
       "Aisle             1776.578947  1785.059172\n",
       "End-cap           1714.777778  1802.771242\n",
       "Front of Store    1797.851190  1745.900000"
      ]
     },
     "execution_count": 68,
     "metadata": {},
     "output_type": "execute_result"
    }
   ],
   "source": [
    "grouped_df4= pd.pivot_table(df,index = [\"Product Position\"],columns = [\"Promotion\"], values = [\"Sales Volume\"],aggfunc = ['mean'])\n",
    "grouped_df4"
   ]
  },
  {
   "cell_type": "code",
   "execution_count": null,
   "id": "60f90682",
   "metadata": {},
   "outputs": [],
   "source": [
    "# Inference\n",
    "# Based on product position and promotion , products kept in all the three position doesn't need promotion based on the data given( sales volume for specified period of time)\n",
    "# but on an average, products kept on aisle and end cap needs promotion to increase sales volume whereas products kept on the front of the store doesn't need promotion."
   ]
  },
  {
   "cell_type": "code",
   "execution_count": null,
   "id": "0cde89b8",
   "metadata": {},
   "outputs": [],
   "source": []
  },
  {
   "cell_type": "code",
   "execution_count": 73,
   "id": "63b5e0e3",
   "metadata": {},
   "outputs": [
    {
     "data": {
      "text/html": [
       "<div>\n",
       "<style scoped>\n",
       "    .dataframe tbody tr th:only-of-type {\n",
       "        vertical-align: middle;\n",
       "    }\n",
       "\n",
       "    .dataframe tbody tr th {\n",
       "        vertical-align: top;\n",
       "    }\n",
       "\n",
       "    .dataframe thead th {\n",
       "        text-align: right;\n",
       "    }\n",
       "</style>\n",
       "<table border=\"1\" class=\"dataframe\">\n",
       "  <thead>\n",
       "    <tr style=\"text-align: right;\">\n",
       "      <th></th>\n",
       "      <th></th>\n",
       "      <th>Sales Volume</th>\n",
       "      <th>Rank</th>\n",
       "    </tr>\n",
       "    <tr>\n",
       "      <th>Product Position</th>\n",
       "      <th>Consumer Demographics</th>\n",
       "      <th></th>\n",
       "      <th></th>\n",
       "    </tr>\n",
       "  </thead>\n",
       "  <tbody>\n",
       "    <tr>\n",
       "      <th rowspan=\"4\" valign=\"top\">Aisle</th>\n",
       "      <th>College students</th>\n",
       "      <td>138289</td>\n",
       "      <td>2.0</td>\n",
       "    </tr>\n",
       "    <tr>\n",
       "      <th>Families</th>\n",
       "      <td>156169</td>\n",
       "      <td>3.0</td>\n",
       "    </tr>\n",
       "    <tr>\n",
       "      <th>Seniors</th>\n",
       "      <td>175322</td>\n",
       "      <td>4.0</td>\n",
       "    </tr>\n",
       "    <tr>\n",
       "      <th>Young adults</th>\n",
       "      <td>135690</td>\n",
       "      <td>1.0</td>\n",
       "    </tr>\n",
       "    <tr>\n",
       "      <th rowspan=\"4\" valign=\"top\">End-cap</th>\n",
       "      <th>College students</th>\n",
       "      <td>158121</td>\n",
       "      <td>4.0</td>\n",
       "    </tr>\n",
       "    <tr>\n",
       "      <th>Families</th>\n",
       "      <td>143832</td>\n",
       "      <td>1.0</td>\n",
       "    </tr>\n",
       "    <tr>\n",
       "      <th>Seniors</th>\n",
       "      <td>146258</td>\n",
       "      <td>2.0</td>\n",
       "    </tr>\n",
       "    <tr>\n",
       "      <th>Young adults</th>\n",
       "      <td>151706</td>\n",
       "      <td>3.0</td>\n",
       "    </tr>\n",
       "    <tr>\n",
       "      <th rowspan=\"4\" valign=\"top\">Front of Store</th>\n",
       "      <th>College students</th>\n",
       "      <td>153653</td>\n",
       "      <td>4.0</td>\n",
       "    </tr>\n",
       "    <tr>\n",
       "      <th>Families</th>\n",
       "      <td>143275</td>\n",
       "      <td>2.0</td>\n",
       "    </tr>\n",
       "    <tr>\n",
       "      <th>Seniors</th>\n",
       "      <td>122509</td>\n",
       "      <td>1.0</td>\n",
       "    </tr>\n",
       "    <tr>\n",
       "      <th>Young adults</th>\n",
       "      <td>144487</td>\n",
       "      <td>3.0</td>\n",
       "    </tr>\n",
       "  </tbody>\n",
       "</table>\n",
       "</div>"
      ],
      "text/plain": [
       "                                        Sales Volume  Rank\n",
       "Product Position Consumer Demographics                    \n",
       "Aisle            College students             138289   2.0\n",
       "                 Families                     156169   3.0\n",
       "                 Seniors                      175322   4.0\n",
       "                 Young adults                 135690   1.0\n",
       "End-cap          College students             158121   4.0\n",
       "                 Families                     143832   1.0\n",
       "                 Seniors                      146258   2.0\n",
       "                 Young adults                 151706   3.0\n",
       "Front of Store   College students             153653   4.0\n",
       "                 Families                     143275   2.0\n",
       "                 Seniors                      122509   1.0\n",
       "                 Young adults                 144487   3.0"
      ]
     },
     "execution_count": 73,
     "metadata": {},
     "output_type": "execute_result"
    }
   ],
   "source": [
    "grouped_df5 = df.groupby(by=['Product Position','Consumer Demographics']).sum()[['Sales Volume']]\n",
    "grouped_df5['Rank'] = grouped_df5.groupby(by=['Product Position'])['Sales Volume'].rank(method = 'first')\n",
    "grouped_df5"
   ]
  },
  {
   "cell_type": "code",
   "execution_count": null,
   "id": "25fba352",
   "metadata": {},
   "outputs": [],
   "source": [
    "# Inference\n"
   ]
  },
  {
   "cell_type": "code",
   "execution_count": null,
   "id": "2b8bffe2",
   "metadata": {},
   "outputs": [],
   "source": []
  },
  {
   "cell_type": "code",
   "execution_count": 75,
   "id": "f68e9a0a",
   "metadata": {},
   "outputs": [
    {
     "data": {
      "text/html": [
       "<div>\n",
       "<style scoped>\n",
       "    .dataframe tbody tr th:only-of-type {\n",
       "        vertical-align: middle;\n",
       "    }\n",
       "\n",
       "    .dataframe tbody tr th {\n",
       "        vertical-align: top;\n",
       "    }\n",
       "\n",
       "    .dataframe thead th {\n",
       "        text-align: right;\n",
       "    }\n",
       "</style>\n",
       "<table border=\"1\" class=\"dataframe\">\n",
       "  <thead>\n",
       "    <tr style=\"text-align: right;\">\n",
       "      <th></th>\n",
       "      <th></th>\n",
       "      <th>Sales Volume</th>\n",
       "      <th>Rank</th>\n",
       "    </tr>\n",
       "    <tr>\n",
       "      <th>Seasonal</th>\n",
       "      <th>Consumer Demographics</th>\n",
       "      <th></th>\n",
       "      <th></th>\n",
       "    </tr>\n",
       "  </thead>\n",
       "  <tbody>\n",
       "    <tr>\n",
       "      <th rowspan=\"4\" valign=\"top\">No</th>\n",
       "      <th>College students</th>\n",
       "      <td>205683</td>\n",
       "      <td>1.0</td>\n",
       "    </tr>\n",
       "    <tr>\n",
       "      <th>Families</th>\n",
       "      <td>220199</td>\n",
       "      <td>3.0</td>\n",
       "    </tr>\n",
       "    <tr>\n",
       "      <th>Seniors</th>\n",
       "      <td>227007</td>\n",
       "      <td>4.0</td>\n",
       "    </tr>\n",
       "    <tr>\n",
       "      <th>Young adults</th>\n",
       "      <td>213021</td>\n",
       "      <td>2.0</td>\n",
       "    </tr>\n",
       "    <tr>\n",
       "      <th rowspan=\"4\" valign=\"top\">Yes</th>\n",
       "      <th>College students</th>\n",
       "      <td>244380</td>\n",
       "      <td>4.0</td>\n",
       "    </tr>\n",
       "    <tr>\n",
       "      <th>Families</th>\n",
       "      <td>223077</td>\n",
       "      <td>3.0</td>\n",
       "    </tr>\n",
       "    <tr>\n",
       "      <th>Seniors</th>\n",
       "      <td>217082</td>\n",
       "      <td>1.0</td>\n",
       "    </tr>\n",
       "    <tr>\n",
       "      <th>Young adults</th>\n",
       "      <td>218862</td>\n",
       "      <td>2.0</td>\n",
       "    </tr>\n",
       "  </tbody>\n",
       "</table>\n",
       "</div>"
      ],
      "text/plain": [
       "                                Sales Volume  Rank\n",
       "Seasonal Consumer Demographics                    \n",
       "No       College students             205683   1.0\n",
       "         Families                     220199   3.0\n",
       "         Seniors                      227007   4.0\n",
       "         Young adults                 213021   2.0\n",
       "Yes      College students             244380   4.0\n",
       "         Families                     223077   3.0\n",
       "         Seniors                      217082   1.0\n",
       "         Young adults                 218862   2.0"
      ]
     },
     "execution_count": 75,
     "metadata": {},
     "output_type": "execute_result"
    }
   ],
   "source": [
    "grouped_df6 = df.groupby(by=['Seasonal','Consumer Demographics']).sum()[['Sales Volume']]\n",
    "grouped_df6['Rank'] = grouped_df6.groupby(by=['Seasonal'])['Sales Volume'].rank(method = 'first')\n",
    "grouped_df6"
   ]
  },
  {
   "cell_type": "code",
   "execution_count": 74,
   "id": "4b31cbe7",
   "metadata": {},
   "outputs": [
    {
     "data": {
      "text/html": [
       "<div>\n",
       "<style scoped>\n",
       "    .dataframe tbody tr th:only-of-type {\n",
       "        vertical-align: middle;\n",
       "    }\n",
       "\n",
       "    .dataframe tbody tr th {\n",
       "        vertical-align: top;\n",
       "    }\n",
       "\n",
       "    .dataframe thead tr th {\n",
       "        text-align: left;\n",
       "    }\n",
       "\n",
       "    .dataframe thead tr:last-of-type th {\n",
       "        text-align: right;\n",
       "    }\n",
       "</style>\n",
       "<table border=\"1\" class=\"dataframe\">\n",
       "  <thead>\n",
       "    <tr>\n",
       "      <th></th>\n",
       "      <th colspan=\"4\" halign=\"left\">mean</th>\n",
       "    </tr>\n",
       "    <tr>\n",
       "      <th></th>\n",
       "      <th colspan=\"4\" halign=\"left\">Sales Volume</th>\n",
       "    </tr>\n",
       "    <tr>\n",
       "      <th>Consumer Demographics</th>\n",
       "      <th>College students</th>\n",
       "      <th>Families</th>\n",
       "      <th>Seniors</th>\n",
       "      <th>Young adults</th>\n",
       "    </tr>\n",
       "    <tr>\n",
       "      <th>Seasonal</th>\n",
       "      <th></th>\n",
       "      <th></th>\n",
       "      <th></th>\n",
       "      <th></th>\n",
       "    </tr>\n",
       "  </thead>\n",
       "  <tbody>\n",
       "    <tr>\n",
       "      <th>No</th>\n",
       "      <td>1773.129310</td>\n",
       "      <td>1643.276119</td>\n",
       "      <td>1801.642857</td>\n",
       "      <td>1790.092437</td>\n",
       "    </tr>\n",
       "    <tr>\n",
       "      <th>Yes</th>\n",
       "      <td>1810.222222</td>\n",
       "      <td>1729.279070</td>\n",
       "      <td>1764.894309</td>\n",
       "      <td>1854.762712</td>\n",
       "    </tr>\n",
       "  </tbody>\n",
       "</table>\n",
       "</div>"
      ],
      "text/plain": [
       "                                  mean                                       \n",
       "                          Sales Volume                                       \n",
       "Consumer Demographics College students     Families      Seniors Young adults\n",
       "Seasonal                                                                     \n",
       "No                         1773.129310  1643.276119  1801.642857  1790.092437\n",
       "Yes                        1810.222222  1729.279070  1764.894309  1854.762712"
      ]
     },
     "execution_count": 74,
     "metadata": {},
     "output_type": "execute_result"
    }
   ],
   "source": [
    "grouped_df_6 = pd.pivot_table(df,index = [\"Seasonal\"],columns = [\"Consumer Demographics\"], values = [\"Sales Volume\"],aggfunc = ['mean'])\n",
    "grouped_df_6"
   ]
  },
  {
   "cell_type": "code",
   "execution_count": null,
   "id": "9c9047b1",
   "metadata": {},
   "outputs": [],
   "source": [
    "# Inference\n",
    "# Based on seasonal and conumer demographics, sales volume increases during the seasonal time for college students, families, young adults whereas sales volume for seniors is higher during the non season time. "
   ]
  },
  {
   "cell_type": "code",
   "execution_count": null,
   "id": "c2d1460b",
   "metadata": {},
   "outputs": [],
   "source": []
  },
  {
   "cell_type": "code",
   "execution_count": 78,
   "id": "81c4f7fa",
   "metadata": {},
   "outputs": [
    {
     "data": {
      "text/html": [
       "<div>\n",
       "<style scoped>\n",
       "    .dataframe tbody tr th:only-of-type {\n",
       "        vertical-align: middle;\n",
       "    }\n",
       "\n",
       "    .dataframe tbody tr th {\n",
       "        vertical-align: top;\n",
       "    }\n",
       "\n",
       "    .dataframe thead tr th {\n",
       "        text-align: left;\n",
       "    }\n",
       "\n",
       "    .dataframe thead tr:last-of-type th {\n",
       "        text-align: right;\n",
       "    }\n",
       "</style>\n",
       "<table border=\"1\" class=\"dataframe\">\n",
       "  <thead>\n",
       "    <tr>\n",
       "      <th></th>\n",
       "      <th></th>\n",
       "      <th colspan=\"2\" halign=\"left\">sum</th>\n",
       "    </tr>\n",
       "    <tr>\n",
       "      <th></th>\n",
       "      <th></th>\n",
       "      <th colspan=\"2\" halign=\"left\">Sales Volume</th>\n",
       "    </tr>\n",
       "    <tr>\n",
       "      <th></th>\n",
       "      <th>Seasonal</th>\n",
       "      <th>No</th>\n",
       "      <th>Yes</th>\n",
       "    </tr>\n",
       "    <tr>\n",
       "      <th>Product Position</th>\n",
       "      <th>Product Category</th>\n",
       "      <th></th>\n",
       "      <th></th>\n",
       "    </tr>\n",
       "  </thead>\n",
       "  <tbody>\n",
       "    <tr>\n",
       "      <th rowspan=\"3\" valign=\"top\">Aisle</th>\n",
       "      <th>Clothing</th>\n",
       "      <td>110133</td>\n",
       "      <td>95139</td>\n",
       "    </tr>\n",
       "    <tr>\n",
       "      <th>Electronics</th>\n",
       "      <td>116032</td>\n",
       "      <td>92339</td>\n",
       "    </tr>\n",
       "    <tr>\n",
       "      <th>Food</th>\n",
       "      <td>85781</td>\n",
       "      <td>106046</td>\n",
       "    </tr>\n",
       "    <tr>\n",
       "      <th rowspan=\"3\" valign=\"top\">End-cap</th>\n",
       "      <th>Clothing</th>\n",
       "      <td>96805</td>\n",
       "      <td>118361</td>\n",
       "    </tr>\n",
       "    <tr>\n",
       "      <th>Electronics</th>\n",
       "      <td>110530</td>\n",
       "      <td>95194</td>\n",
       "    </tr>\n",
       "    <tr>\n",
       "      <th>Food</th>\n",
       "      <td>75220</td>\n",
       "      <td>103807</td>\n",
       "    </tr>\n",
       "    <tr>\n",
       "      <th rowspan=\"3\" valign=\"top\">Front of Store</th>\n",
       "      <th>Clothing</th>\n",
       "      <td>88202</td>\n",
       "      <td>109940</td>\n",
       "    </tr>\n",
       "    <tr>\n",
       "      <th>Electronics</th>\n",
       "      <td>87753</td>\n",
       "      <td>85669</td>\n",
       "    </tr>\n",
       "    <tr>\n",
       "      <th>Food</th>\n",
       "      <td>95454</td>\n",
       "      <td>96906</td>\n",
       "    </tr>\n",
       "  </tbody>\n",
       "</table>\n",
       "</div>"
      ],
      "text/plain": [
       "                                           sum        \n",
       "                                  Sales Volume        \n",
       "Seasonal                                    No     Yes\n",
       "Product Position Product Category                     \n",
       "Aisle            Clothing               110133   95139\n",
       "                 Electronics            116032   92339\n",
       "                 Food                    85781  106046\n",
       "End-cap          Clothing                96805  118361\n",
       "                 Electronics            110530   95194\n",
       "                 Food                    75220  103807\n",
       "Front of Store   Clothing                88202  109940\n",
       "                 Electronics             87753   85669\n",
       "                 Food                    95454   96906"
      ]
     },
     "execution_count": 78,
     "metadata": {},
     "output_type": "execute_result"
    }
   ],
   "source": [
    "grouped_df7= pd.pivot_table(df,index = [\"Product Position\", \"Product Category\"],columns = [\"Seasonal\"], values = [\"Sales Volume\"],aggfunc = ['sum'])\n",
    "grouped_df7"
   ]
  },
  {
   "cell_type": "code",
   "execution_count": null,
   "id": "caad9854",
   "metadata": {},
   "outputs": [],
   "source": [
    "# inference\n",
    "# Food products kept in aisle has high sales volume during season time\n",
    "# clothing and food products kept in end-cap has high sales volume during season time\n",
    "# clothing and food products kept in front of the store has high sales volume during season time\n",
    "# Hence food products has higher sales during the seasonal time irrespective of the product position followed by clothing."
   ]
  },
  {
   "cell_type": "code",
   "execution_count": null,
   "id": "ab8f54e7",
   "metadata": {},
   "outputs": [],
   "source": []
  },
  {
   "cell_type": "code",
   "execution_count": 82,
   "id": "2f2051cd",
   "metadata": {},
   "outputs": [
    {
     "data": {
      "text/html": [
       "<div>\n",
       "<style scoped>\n",
       "    .dataframe tbody tr th:only-of-type {\n",
       "        vertical-align: middle;\n",
       "    }\n",
       "\n",
       "    .dataframe tbody tr th {\n",
       "        vertical-align: top;\n",
       "    }\n",
       "\n",
       "    .dataframe thead th {\n",
       "        text-align: right;\n",
       "    }\n",
       "</style>\n",
       "<table border=\"1\" class=\"dataframe\">\n",
       "  <thead>\n",
       "    <tr style=\"text-align: right;\">\n",
       "      <th></th>\n",
       "      <th></th>\n",
       "      <th>Sales Volume</th>\n",
       "      <th>Rank</th>\n",
       "    </tr>\n",
       "    <tr>\n",
       "      <th>Product Category</th>\n",
       "      <th>Foot Traffic</th>\n",
       "      <th></th>\n",
       "      <th></th>\n",
       "    </tr>\n",
       "  </thead>\n",
       "  <tbody>\n",
       "    <tr>\n",
       "      <th rowspan=\"3\" valign=\"top\">Clothing</th>\n",
       "      <th>High</th>\n",
       "      <td>205354</td>\n",
       "      <td>2.0</td>\n",
       "    </tr>\n",
       "    <tr>\n",
       "      <th>Low</th>\n",
       "      <td>222165</td>\n",
       "      <td>3.0</td>\n",
       "    </tr>\n",
       "    <tr>\n",
       "      <th>Medium</th>\n",
       "      <td>191061</td>\n",
       "      <td>1.0</td>\n",
       "    </tr>\n",
       "    <tr>\n",
       "      <th rowspan=\"3\" valign=\"top\">Electronics</th>\n",
       "      <th>High</th>\n",
       "      <td>202976</td>\n",
       "      <td>3.0</td>\n",
       "    </tr>\n",
       "    <tr>\n",
       "      <th>Low</th>\n",
       "      <td>197167</td>\n",
       "      <td>2.0</td>\n",
       "    </tr>\n",
       "    <tr>\n",
       "      <th>Medium</th>\n",
       "      <td>187374</td>\n",
       "      <td>1.0</td>\n",
       "    </tr>\n",
       "    <tr>\n",
       "      <th rowspan=\"3\" valign=\"top\">Food</th>\n",
       "      <th>High</th>\n",
       "      <td>189836</td>\n",
       "      <td>2.0</td>\n",
       "    </tr>\n",
       "    <tr>\n",
       "      <th>Low</th>\n",
       "      <td>161481</td>\n",
       "      <td>1.0</td>\n",
       "    </tr>\n",
       "    <tr>\n",
       "      <th>Medium</th>\n",
       "      <td>211897</td>\n",
       "      <td>3.0</td>\n",
       "    </tr>\n",
       "  </tbody>\n",
       "</table>\n",
       "</div>"
      ],
      "text/plain": [
       "                               Sales Volume  Rank\n",
       "Product Category Foot Traffic                    \n",
       "Clothing         High                205354   2.0\n",
       "                 Low                 222165   3.0\n",
       "                 Medium              191061   1.0\n",
       "Electronics      High                202976   3.0\n",
       "                 Low                 197167   2.0\n",
       "                 Medium              187374   1.0\n",
       "Food             High                189836   2.0\n",
       "                 Low                 161481   1.0\n",
       "                 Medium              211897   3.0"
      ]
     },
     "execution_count": 82,
     "metadata": {},
     "output_type": "execute_result"
    }
   ],
   "source": [
    "grouped_df8 = df.groupby(by=['Product Category','Foot Traffic']).sum()[['Sales Volume']]\n",
    "grouped_df8['Rank'] = grouped_df8.groupby(by=['Product Category'])['Sales Volume'].rank(method = 'first')\n",
    "grouped_df8"
   ]
  },
  {
   "cell_type": "code",
   "execution_count": null,
   "id": "d9b35f42",
   "metadata": {},
   "outputs": [],
   "source": [
    "# inference\n",
    "# based on category, Clothing has high sales volume  during low foot traffic.\n",
    "# whereas electronics has high sales volume during high foot traffic\n",
    "# and food has high sales volume during medium foot traffic "
   ]
  },
  {
   "cell_type": "code",
   "execution_count": 83,
   "id": "1c474402",
   "metadata": {},
   "outputs": [
    {
     "data": {
      "text/html": [
       "<div>\n",
       "<style scoped>\n",
       "    .dataframe tbody tr th:only-of-type {\n",
       "        vertical-align: middle;\n",
       "    }\n",
       "\n",
       "    .dataframe tbody tr th {\n",
       "        vertical-align: top;\n",
       "    }\n",
       "\n",
       "    .dataframe thead tr th {\n",
       "        text-align: left;\n",
       "    }\n",
       "\n",
       "    .dataframe thead tr:last-of-type th {\n",
       "        text-align: right;\n",
       "    }\n",
       "</style>\n",
       "<table border=\"1\" class=\"dataframe\">\n",
       "  <thead>\n",
       "    <tr>\n",
       "      <th></th>\n",
       "      <th></th>\n",
       "      <th colspan=\"3\" halign=\"left\">sum</th>\n",
       "    </tr>\n",
       "    <tr>\n",
       "      <th></th>\n",
       "      <th></th>\n",
       "      <th colspan=\"3\" halign=\"left\">Sales Volume</th>\n",
       "    </tr>\n",
       "    <tr>\n",
       "      <th></th>\n",
       "      <th>Foot Traffic</th>\n",
       "      <th>High</th>\n",
       "      <th>Low</th>\n",
       "      <th>Medium</th>\n",
       "    </tr>\n",
       "    <tr>\n",
       "      <th>Product Position</th>\n",
       "      <th>Product Category</th>\n",
       "      <th></th>\n",
       "      <th></th>\n",
       "      <th></th>\n",
       "    </tr>\n",
       "  </thead>\n",
       "  <tbody>\n",
       "    <tr>\n",
       "      <th rowspan=\"3\" valign=\"top\">Aisle</th>\n",
       "      <th>Clothing</th>\n",
       "      <td>64653</td>\n",
       "      <td>74704</td>\n",
       "      <td>65915</td>\n",
       "    </tr>\n",
       "    <tr>\n",
       "      <th>Electronics</th>\n",
       "      <td>77898</td>\n",
       "      <td>62494</td>\n",
       "      <td>67979</td>\n",
       "    </tr>\n",
       "    <tr>\n",
       "      <th>Food</th>\n",
       "      <td>67946</td>\n",
       "      <td>54753</td>\n",
       "      <td>69128</td>\n",
       "    </tr>\n",
       "    <tr>\n",
       "      <th rowspan=\"3\" valign=\"top\">End-cap</th>\n",
       "      <th>Clothing</th>\n",
       "      <td>69825</td>\n",
       "      <td>75490</td>\n",
       "      <td>69851</td>\n",
       "    </tr>\n",
       "    <tr>\n",
       "      <th>Electronics</th>\n",
       "      <td>65788</td>\n",
       "      <td>64877</td>\n",
       "      <td>75059</td>\n",
       "    </tr>\n",
       "    <tr>\n",
       "      <th>Food</th>\n",
       "      <td>52773</td>\n",
       "      <td>51994</td>\n",
       "      <td>74260</td>\n",
       "    </tr>\n",
       "    <tr>\n",
       "      <th rowspan=\"3\" valign=\"top\">Front of Store</th>\n",
       "      <th>Clothing</th>\n",
       "      <td>70876</td>\n",
       "      <td>71971</td>\n",
       "      <td>55295</td>\n",
       "    </tr>\n",
       "    <tr>\n",
       "      <th>Electronics</th>\n",
       "      <td>59290</td>\n",
       "      <td>69796</td>\n",
       "      <td>44336</td>\n",
       "    </tr>\n",
       "    <tr>\n",
       "      <th>Food</th>\n",
       "      <td>69117</td>\n",
       "      <td>54734</td>\n",
       "      <td>68509</td>\n",
       "    </tr>\n",
       "  </tbody>\n",
       "</table>\n",
       "</div>"
      ],
      "text/plain": [
       "                                           sum              \n",
       "                                  Sales Volume              \n",
       "Foot Traffic                              High    Low Medium\n",
       "Product Position Product Category                           \n",
       "Aisle            Clothing                64653  74704  65915\n",
       "                 Electronics             77898  62494  67979\n",
       "                 Food                    67946  54753  69128\n",
       "End-cap          Clothing                69825  75490  69851\n",
       "                 Electronics             65788  64877  75059\n",
       "                 Food                    52773  51994  74260\n",
       "Front of Store   Clothing                70876  71971  55295\n",
       "                 Electronics             59290  69796  44336\n",
       "                 Food                    69117  54734  68509"
      ]
     },
     "execution_count": 83,
     "metadata": {},
     "output_type": "execute_result"
    }
   ],
   "source": [
    "grouped_df9 = pd.pivot_table(df,index = [\"Product Position\", \"Product Category\"],columns = [\"Foot Traffic\"], values = [\"Sales Volume\"],aggfunc = ['sum'])\n",
    "grouped_df9"
   ]
  },
  {
   "cell_type": "code",
   "execution_count": null,
   "id": "f6a4b913",
   "metadata": {},
   "outputs": [],
   "source": [
    "# inference\n",
    "# clothing products  has high sales volume during low foot traffic irrespective of the position kept.\n",
    "# electronics products kept in aisle has high sales during high foot traffic \n",
    "# electronics products kept in end cap has high sales during medium foot traffic\n",
    "# electronics products kept in front of the store has high sales during low foot traffic\n",
    "# food products kept in aisle and end cap has high sales during medium foot traffic whereas food products kept in front of the store has high sales during gigh foot traffic\n"
   ]
  },
  {
   "cell_type": "code",
   "execution_count": null,
   "id": "ca7c5a22",
   "metadata": {},
   "outputs": [],
   "source": []
  },
  {
   "cell_type": "code",
   "execution_count": 85,
   "id": "701039d4",
   "metadata": {},
   "outputs": [
    {
     "data": {
      "text/html": [
       "<div>\n",
       "<style scoped>\n",
       "    .dataframe tbody tr th:only-of-type {\n",
       "        vertical-align: middle;\n",
       "    }\n",
       "\n",
       "    .dataframe tbody tr th {\n",
       "        vertical-align: top;\n",
       "    }\n",
       "\n",
       "    .dataframe thead tr th {\n",
       "        text-align: left;\n",
       "    }\n",
       "\n",
       "    .dataframe thead tr:last-of-type th {\n",
       "        text-align: right;\n",
       "    }\n",
       "</style>\n",
       "<table border=\"1\" class=\"dataframe\">\n",
       "  <thead>\n",
       "    <tr>\n",
       "      <th></th>\n",
       "      <th></th>\n",
       "      <th colspan=\"3\" halign=\"left\">sum</th>\n",
       "    </tr>\n",
       "    <tr>\n",
       "      <th></th>\n",
       "      <th></th>\n",
       "      <th colspan=\"3\" halign=\"left\">Sales Volume</th>\n",
       "    </tr>\n",
       "    <tr>\n",
       "      <th></th>\n",
       "      <th>Foot Traffic</th>\n",
       "      <th>High</th>\n",
       "      <th>Low</th>\n",
       "      <th>Medium</th>\n",
       "    </tr>\n",
       "    <tr>\n",
       "      <th>Product Category</th>\n",
       "      <th>Seasonal</th>\n",
       "      <th></th>\n",
       "      <th></th>\n",
       "      <th></th>\n",
       "    </tr>\n",
       "  </thead>\n",
       "  <tbody>\n",
       "    <tr>\n",
       "      <th rowspan=\"2\" valign=\"top\">Clothing</th>\n",
       "      <th>No</th>\n",
       "      <td>108857</td>\n",
       "      <td>100817</td>\n",
       "      <td>85466</td>\n",
       "    </tr>\n",
       "    <tr>\n",
       "      <th>Yes</th>\n",
       "      <td>96497</td>\n",
       "      <td>121348</td>\n",
       "      <td>105595</td>\n",
       "    </tr>\n",
       "    <tr>\n",
       "      <th rowspan=\"2\" valign=\"top\">Electronics</th>\n",
       "      <th>No</th>\n",
       "      <td>113829</td>\n",
       "      <td>109757</td>\n",
       "      <td>90729</td>\n",
       "    </tr>\n",
       "    <tr>\n",
       "      <th>Yes</th>\n",
       "      <td>89147</td>\n",
       "      <td>87410</td>\n",
       "      <td>96645</td>\n",
       "    </tr>\n",
       "    <tr>\n",
       "      <th rowspan=\"2\" valign=\"top\">Food</th>\n",
       "      <th>No</th>\n",
       "      <td>82452</td>\n",
       "      <td>84169</td>\n",
       "      <td>89834</td>\n",
       "    </tr>\n",
       "    <tr>\n",
       "      <th>Yes</th>\n",
       "      <td>107384</td>\n",
       "      <td>77312</td>\n",
       "      <td>122063</td>\n",
       "    </tr>\n",
       "  </tbody>\n",
       "</table>\n",
       "</div>"
      ],
      "text/plain": [
       "                                   sum                \n",
       "                          Sales Volume                \n",
       "Foot Traffic                      High     Low  Medium\n",
       "Product Category Seasonal                             \n",
       "Clothing         No             108857  100817   85466\n",
       "                 Yes             96497  121348  105595\n",
       "Electronics      No             113829  109757   90729\n",
       "                 Yes             89147   87410   96645\n",
       "Food             No              82452   84169   89834\n",
       "                 Yes            107384   77312  122063"
      ]
     },
     "execution_count": 85,
     "metadata": {},
     "output_type": "execute_result"
    }
   ],
   "source": [
    "grouped_df9 = pd.pivot_table(df,index = [\"Product Category\",\"Seasonal\"],columns = [\"Foot Traffic\"], values = [\"Sales Volume\"],aggfunc = ['sum'])\n",
    "grouped_df9"
   ]
  },
  {
   "cell_type": "code",
   "execution_count": null,
   "id": "0a0788de",
   "metadata": {},
   "outputs": [],
   "source": [
    "# inference\n",
    "# during high foot traffic, clothing and electronics has high sales volume even in the non season time whereas food products has high sales during high foot traffic and during seasonal time.\n",
    "# during low and medium foot traffic, clothing has high sales during season time only."
   ]
  },
  {
   "cell_type": "code",
   "execution_count": null,
   "id": "2f6e2aa5",
   "metadata": {},
   "outputs": [],
   "source": []
  },
  {
   "cell_type": "code",
   "execution_count": 99,
   "id": "c367bccc",
   "metadata": {},
   "outputs": [
    {
     "data": {
      "text/html": [
       "<div>\n",
       "<style scoped>\n",
       "    .dataframe tbody tr th:only-of-type {\n",
       "        vertical-align: middle;\n",
       "    }\n",
       "\n",
       "    .dataframe tbody tr th {\n",
       "        vertical-align: top;\n",
       "    }\n",
       "\n",
       "    .dataframe thead tr th {\n",
       "        text-align: left;\n",
       "    }\n",
       "\n",
       "    .dataframe thead tr:last-of-type th {\n",
       "        text-align: right;\n",
       "    }\n",
       "</style>\n",
       "<table border=\"1\" class=\"dataframe\">\n",
       "  <thead>\n",
       "    <tr>\n",
       "      <th></th>\n",
       "      <th>sum</th>\n",
       "    </tr>\n",
       "    <tr>\n",
       "      <th></th>\n",
       "      <th>Sales Volume</th>\n",
       "    </tr>\n",
       "    <tr>\n",
       "      <th>Foot Traffic</th>\n",
       "      <th></th>\n",
       "    </tr>\n",
       "  </thead>\n",
       "  <tbody>\n",
       "    <tr>\n",
       "      <th>High</th>\n",
       "      <td>598166</td>\n",
       "    </tr>\n",
       "    <tr>\n",
       "      <th>Low</th>\n",
       "      <td>580813</td>\n",
       "    </tr>\n",
       "    <tr>\n",
       "      <th>Medium</th>\n",
       "      <td>590332</td>\n",
       "    </tr>\n",
       "  </tbody>\n",
       "</table>\n",
       "</div>"
      ],
      "text/plain": [
       "                      sum\n",
       "             Sales Volume\n",
       "Foot Traffic             \n",
       "High               598166\n",
       "Low                580813\n",
       "Medium             590332"
      ]
     },
     "execution_count": 99,
     "metadata": {},
     "output_type": "execute_result"
    }
   ],
   "source": [
    "grouped_df11 = pd.pivot_table(df,index = [\"Foot Traffic\"], values = [\"Sales Volume\"],aggfunc = ['sum'])\n",
    "grouped_df11"
   ]
  },
  {
   "cell_type": "code",
   "execution_count": null,
   "id": "cc186e12",
   "metadata": {},
   "outputs": [],
   "source": [
    "# inference\n",
    "# sales volume is higher during foot traffic is high followed by medium and low foot traffic"
   ]
  },
  {
   "cell_type": "code",
   "execution_count": null,
   "id": "f77deecd",
   "metadata": {},
   "outputs": [],
   "source": [
    "# overall"
   ]
  },
  {
   "cell_type": "code",
   "execution_count": 89,
   "id": "eff43b5e",
   "metadata": {},
   "outputs": [
    {
     "data": {
      "text/html": [
       "<div>\n",
       "<style scoped>\n",
       "    .dataframe tbody tr th:only-of-type {\n",
       "        vertical-align: middle;\n",
       "    }\n",
       "\n",
       "    .dataframe tbody tr th {\n",
       "        vertical-align: top;\n",
       "    }\n",
       "\n",
       "    .dataframe thead th {\n",
       "        text-align: right;\n",
       "    }\n",
       "</style>\n",
       "<table border=\"1\" class=\"dataframe\">\n",
       "  <thead>\n",
       "    <tr style=\"text-align: right;\">\n",
       "      <th></th>\n",
       "      <th></th>\n",
       "      <th></th>\n",
       "      <th></th>\n",
       "      <th></th>\n",
       "      <th></th>\n",
       "      <th>Sales Volume</th>\n",
       "    </tr>\n",
       "    <tr>\n",
       "      <th>Product Position</th>\n",
       "      <th>Product Category</th>\n",
       "      <th>Consumer Demographics</th>\n",
       "      <th>Promotion</th>\n",
       "      <th>Foot Traffic</th>\n",
       "      <th>Seasonal</th>\n",
       "      <th></th>\n",
       "    </tr>\n",
       "  </thead>\n",
       "  <tbody>\n",
       "    <tr>\n",
       "      <th rowspan=\"5\" valign=\"top\">Aisle</th>\n",
       "      <th rowspan=\"5\" valign=\"top\">Clothing</th>\n",
       "      <th rowspan=\"5\" valign=\"top\">College students</th>\n",
       "      <th rowspan=\"5\" valign=\"top\">No</th>\n",
       "      <th rowspan=\"2\" valign=\"top\">High</th>\n",
       "      <th>No</th>\n",
       "      <td>4459</td>\n",
       "    </tr>\n",
       "    <tr>\n",
       "      <th>Yes</th>\n",
       "      <td>2321</td>\n",
       "    </tr>\n",
       "    <tr>\n",
       "      <th rowspan=\"2\" valign=\"top\">Low</th>\n",
       "      <th>No</th>\n",
       "      <td>5212</td>\n",
       "    </tr>\n",
       "    <tr>\n",
       "      <th>Yes</th>\n",
       "      <td>4437</td>\n",
       "    </tr>\n",
       "    <tr>\n",
       "      <th>Medium</th>\n",
       "      <th>No</th>\n",
       "      <td>8024</td>\n",
       "    </tr>\n",
       "    <tr>\n",
       "      <th>...</th>\n",
       "      <th>...</th>\n",
       "      <th>...</th>\n",
       "      <th>...</th>\n",
       "      <th>...</th>\n",
       "      <th>...</th>\n",
       "      <td>...</td>\n",
       "    </tr>\n",
       "    <tr>\n",
       "      <th rowspan=\"5\" valign=\"top\">Front of Store</th>\n",
       "      <th rowspan=\"5\" valign=\"top\">Food</th>\n",
       "      <th rowspan=\"5\" valign=\"top\">Young adults</th>\n",
       "      <th rowspan=\"5\" valign=\"top\">Yes</th>\n",
       "      <th>High</th>\n",
       "      <th>Yes</th>\n",
       "      <td>6731</td>\n",
       "    </tr>\n",
       "    <tr>\n",
       "      <th rowspan=\"2\" valign=\"top\">Low</th>\n",
       "      <th>No</th>\n",
       "      <td>1792</td>\n",
       "    </tr>\n",
       "    <tr>\n",
       "      <th>Yes</th>\n",
       "      <td>3913</td>\n",
       "    </tr>\n",
       "    <tr>\n",
       "      <th rowspan=\"2\" valign=\"top\">Medium</th>\n",
       "      <th>No</th>\n",
       "      <td>9229</td>\n",
       "    </tr>\n",
       "    <tr>\n",
       "      <th>Yes</th>\n",
       "      <td>4977</td>\n",
       "    </tr>\n",
       "  </tbody>\n",
       "</table>\n",
       "<p>395 rows × 1 columns</p>\n",
       "</div>"
      ],
      "text/plain": [
       "                                                                                         Sales Volume\n",
       "Product Position Product Category Consumer Demographics Promotion Foot Traffic Seasonal              \n",
       "Aisle            Clothing         College students      No        High         No                4459\n",
       "                                                                               Yes               2321\n",
       "                                                                  Low          No                5212\n",
       "                                                                               Yes               4437\n",
       "                                                                  Medium       No                8024\n",
       "...                                                                                               ...\n",
       "Front of Store   Food             Young adults          Yes       High         Yes               6731\n",
       "                                                                  Low          No                1792\n",
       "                                                                               Yes               3913\n",
       "                                                                  Medium       No                9229\n",
       "                                                                               Yes               4977\n",
       "\n",
       "[395 rows x 1 columns]"
      ]
     },
     "execution_count": 89,
     "metadata": {},
     "output_type": "execute_result"
    }
   ],
   "source": [
    "overall_df = df.groupby(by=['Product Position','Product Category','Consumer Demographics','Promotion','Foot Traffic','Seasonal']).sum()[['Sales Volume']]  \n",
    "overall_df"
   ]
  },
  {
   "cell_type": "markdown",
   "id": "50e8c0f7",
   "metadata": {},
   "source": [
    "# correlation matrix"
   ]
  },
  {
   "cell_type": "code",
   "execution_count": 90,
   "id": "0338ad04",
   "metadata": {},
   "outputs": [],
   "source": [
    "num_data = df[[ \"Price\", \"Competitor's Price\",\"Sales Volume\"]]"
   ]
  },
  {
   "cell_type": "code",
   "execution_count": 91,
   "id": "f24a5233",
   "metadata": {},
   "outputs": [
    {
     "data": {
      "image/png": "[encoded data removed]",
      "text/plain": [
       "<Figure size 640x480 with 2 Axes>"
      ]
     },
     "metadata": {},
     "output_type": "display_data"
    }
   ],
   "source": [
    "import seaborn as sns\n",
    "sns.heatmap(num_data.corr(),annot = True);"
   ]
  },
  {
   "cell_type": "code",
   "execution_count": null,
   "id": "e46c8873",
   "metadata": {},
   "outputs": [],
   "source": []
  },
  {
   "cell_type": "code",
   "execution_count": null,
   "id": "381491b1",
   "metadata": {},
   "outputs": [],
   "source": []
  },
  {
   "cell_type": "code",
   "execution_count": null,
   "id": "d1d67705",
   "metadata": {},
   "outputs": [],
   "source": []
  },
  {
   "cell_type": "code",
   "execution_count": null,
   "id": "95f7ef5f",
   "metadata": {},
   "outputs": [],
   "source": [
    "catcols = df.select_dtypes(include = 'O').columns\n",
    "catcols"
   ]
  },
  {
   "cell_type": "code",
   "execution_count": null,
   "id": "28f373ac",
   "metadata": {},
   "outputs": [],
   "source": [
    "from sklearn.preprocessing import OrdinalEncoder\n",
    "oe=OrdinalEncoder()\n",
    "oe.fit(df[catcols])"
   ]
  },
  {
   "cell_type": "code",
   "execution_count": null,
   "id": "f23a4e89",
   "metadata": {},
   "outputs": [],
   "source": [
    "df[catcols]=oe.transform(df[catcols])\n",
    "df"
   ]
  },
  {
   "cell_type": "code",
   "execution_count": null,
   "id": "d1c1c370",
   "metadata": {},
   "outputs": [],
   "source": [
    "df1 = df.copy()\n",
    "from sklearn.model_selection import train_test_split\n",
    "train,test=train_test_split(df,test_size=0.25,stratify = df[\"Product Position\"])\n"
   ]
  },
  {
   "cell_type": "code",
   "execution_count": null,
   "id": "d45bda90",
   "metadata": {},
   "outputs": [],
   "source": [
    "train"
   ]
  },
  {
   "cell_type": "code",
   "execution_count": null,
   "id": "c4388e45",
   "metadata": {},
   "outputs": [],
   "source": [
    "test"
   ]
  },
  {
   "cell_type": "code",
   "execution_count": null,
   "id": "a13c3945",
   "metadata": {},
   "outputs": [],
   "source": [
    "train.isnull().sum()"
   ]
  },
  {
   "cell_type": "code",
   "execution_count": null,
   "id": "00218f76",
   "metadata": {},
   "outputs": [],
   "source": [
    "x_train = train.drop(columns ='Sales Volume')\n",
    "y_train = train[['Sales Volume']]"
   ]
  },
  {
   "cell_type": "code",
   "execution_count": null,
   "id": "e61e2c17",
   "metadata": {},
   "outputs": [],
   "source": [
    "from sklearn.linear_model import LinearRegression\n",
    "lr = LinearRegression()\n",
    "lr.fit(x_train,y_train)\n"
   ]
  },
  {
   "cell_type": "code",
   "execution_count": null,
   "id": "fc6c0fc5",
   "metadata": {},
   "outputs": [],
   "source": [
    "lr.score(x_train,y_train)"
   ]
  },
  {
   "cell_type": "code",
   "execution_count": null,
   "id": "2420e81e",
   "metadata": {},
   "outputs": [],
   "source": [
    "# test data\n",
    "test.isnull().sum()"
   ]
  },
  {
   "cell_type": "code",
   "execution_count": null,
   "id": "590b8c56",
   "metadata": {},
   "outputs": [],
   "source": [
    "x_test = test.drop(columns ='Sales Volume')\n",
    "y_test = test[['Sales Volume']]"
   ]
  },
  {
   "cell_type": "code",
   "execution_count": null,
   "id": "050005a9",
   "metadata": {},
   "outputs": [],
   "source": [
    "lr.score(x_test,y_test) "
   ]
  },
  {
   "cell_type": "code",
   "execution_count": null,
   "id": "f5200396",
   "metadata": {},
   "outputs": [],
   "source": [
    "lr.coef_"
   ]
  },
  {
   "cell_type": "code",
   "execution_count": null,
   "id": "f6bdb080",
   "metadata": {},
   "outputs": [],
   "source": [
    "lr.intercept_"
   ]
  },
  {
   "cell_type": "code",
   "execution_count": null,
   "id": "ec5d2043",
   "metadata": {},
   "outputs": [],
   "source": [
    "y_pred = lr.predict(x_test)"
   ]
  },
  {
   "cell_type": "code",
   "execution_count": null,
   "id": "e31534a3",
   "metadata": {},
   "outputs": [],
   "source": [
    "from sklearn.metrics import mean_absolute_error\n",
    "mean_absolute_error(y_train,y_pred)"
   ]
  },
  {
   "cell_type": "code",
   "execution_count": null,
   "id": "11ed1455",
   "metadata": {},
   "outputs": [],
   "source": [
    "from sklearn.metrics import mean_squared_error\n",
    "mean_squared_error(y_test,y_pred)"
   ]
  },
  {
   "cell_type": "code",
   "execution_count": null,
   "id": "2dfa58ca",
   "metadata": {},
   "outputs": [],
   "source": [
    "from sklearn.metrics import mean_absolute_error\n",
    "mean_absolute_error(y_test,y_pred)"
   ]
  },
  {
   "cell_type": "code",
   "execution_count": null,
   "id": "0e34d6ef",
   "metadata": {},
   "outputs": [],
   "source": []
  },
  {
   "cell_type": "code",
   "execution_count": null,
   "id": "3dd34741",
   "metadata": {},
   "outputs": [],
   "source": [
    "list(zip(x_train.columns,lr.coef_[0]))"
   ]
  },
  {
   "cell_type": "code",
   "execution_count": null,
   "id": "7f64e6aa",
   "metadata": {},
   "outputs": [],
   "source": [
    "x_train.corr() "
   ]
  },
  {
   "cell_type": "code",
   "execution_count": null,
   "id": "7d5934f2",
   "metadata": {},
   "outputs": [],
   "source": [
    "from statsmodels.stats.outliers_influence import variance_inflation_factor\n",
    "# if vif is greater than 5 >>> dont us that feature \n",
    "# if vif is less than 5 >> i can believe that feature value in overall model (drop that feature)\n",
    "# vif is a measure of multicollinearity\n",
    "\n",
    "# eliminate unnecassary and redundant features\n",
    "variance_inflation_factor(x_train[[\"Price\",\"Competitor's Price\"]],0)"
   ]
  },
  {
   "cell_type": "code",
   "execution_count": null,
   "id": "359f62ed",
   "metadata": {},
   "outputs": [],
   "source": [
    "variance_inflation_factor(x_train[[\"Seasonal\",\"Price\"]],0)"
   ]
  },
  {
   "cell_type": "code",
   "execution_count": null,
   "id": "d789a676",
   "metadata": {},
   "outputs": [],
   "source": [
    "from sklearn.linear_model import LinearRegression\n",
    "lr2 = LinearRegression()\n",
    "lr2.fit(x_train[[\"Product ID\", \"Product Position\", 'Price',\n",
    "       'Promotion', 'Foot Traffic', 'Consumer Demographics',\n",
    "       'Product Category', 'Seasonal']],y_train)"
   ]
  },
  {
   "cell_type": "code",
   "execution_count": null,
   "id": "06bc0ef6",
   "metadata": {},
   "outputs": [],
   "source": [
    "lr2.coef_"
   ]
  },
  {
   "cell_type": "code",
   "execution_count": null,
   "id": "e9b2e1a7",
   "metadata": {},
   "outputs": [],
   "source": [
    "lr2.score(x_train[[\"Product ID\", \"Product Position\", 'Price',\n",
    "       'Promotion', 'Foot Traffic', 'Consumer Demographics',\n",
    "       'Product Category', 'Seasonal']],y_train)"
   ]
  },
  {
   "cell_type": "code",
   "execution_count": null,
   "id": "4c5ae42c",
   "metadata": {},
   "outputs": [],
   "source": [
    "from sklearn.linear_model import LinearRegression\n",
    "lr3 = LinearRegression()\n",
    "lr3.fit(x_train[[\"Product ID\", \"Product Position\", \"Competitor's Price\",\n",
    "       'Promotion', 'Foot Traffic', 'Consumer Demographics',\n",
    "       'Product Category', 'Seasonal']],y_train)"
   ]
  },
  {
   "cell_type": "code",
   "execution_count": null,
   "id": "cc5384b9",
   "metadata": {},
   "outputs": [],
   "source": [
    "lr3.score(x_train[[\"Product ID\", \"Product Position\", \"Competitor's Price\",\n",
    "       'Promotion', 'Foot Traffic', 'Consumer Demographics',\n",
    "       'Product Category', 'Seasonal']],y_train)"
   ]
  },
  {
   "cell_type": "code",
   "execution_count": null,
   "id": "1dd8f965",
   "metadata": {},
   "outputs": [],
   "source": [
    "from sklearn.linear_model import LinearRegression\n",
    "lr4 = LinearRegression()\n",
    "lr4.fit(x_train[[\"Product ID\", \"Product Position\",\n",
    "       'Promotion', 'Foot Traffic', 'Consumer Demographics',\n",
    "       'Product Category', 'Seasonal']],y_train)"
   ]
  },
  {
   "cell_type": "code",
   "execution_count": null,
   "id": "b08e83b6",
   "metadata": {},
   "outputs": [],
   "source": [
    "lr4.score(x_train[[\"Product ID\", \"Product Position\", \n",
    "       'Promotion', 'Foot Traffic', 'Consumer Demographics',\n",
    "       'Product Category', 'Seasonal']],y_train)"
   ]
  },
  {
   "cell_type": "code",
   "execution_count": null,
   "id": "4fc44fb6",
   "metadata": {},
   "outputs": [],
   "source": [
    "sns.scatterplot(x=df['Price'],y = df['Sales Volume']);"
   ]
  },
  {
   "cell_type": "code",
   "execution_count": null,
   "id": "933df61d",
   "metadata": {},
   "outputs": [],
   "source": [
    "sns.scatterplot(x=df[\"Competitor's Price\"],y = df['Sales Volume']);"
   ]
  },
  {
   "cell_type": "code",
   "execution_count": null,
   "id": "e7d8e4cc",
   "metadata": {},
   "outputs": [],
   "source": [
    "numcols = df.select_dtypes(exclude = 'category').columns\n",
    "#df[numcols]\n",
    "numcols"
   ]
  },
  {
   "cell_type": "code",
   "execution_count": null,
   "id": "86ee0093",
   "metadata": {},
   "outputs": [],
   "source": [
    "# normalization or min max scaling   ( procedural method)\n",
    "df2 = (df[numcols] - df[numcols].min())/(df[numcols].max() - df[numcols].min())\n",
    "df2"
   ]
  },
  {
   "cell_type": "code",
   "execution_count": null,
   "id": "4344834a",
   "metadata": {},
   "outputs": [],
   "source": [
    "from sklearn.model_selection import train_test_split\n",
    "train2,test2=train_test_split(df2,test_size=0.25,stratify = df2[\"Product Position\"])\n"
   ]
  },
  {
   "cell_type": "code",
   "execution_count": null,
   "id": "621b7201",
   "metadata": {},
   "outputs": [],
   "source": [
    "x2_train = train2.drop(columns ='Sales Volume')\n",
    "y2_train = train2[['Sales Volume']]"
   ]
  },
  {
   "cell_type": "code",
   "execution_count": null,
   "id": "c3625f9c",
   "metadata": {},
   "outputs": [],
   "source": [
    "from sklearn.linear_model import LinearRegression\n",
    "lrdf2 = LinearRegression()\n",
    "lrdf2.fit(x2_train,y2_train)\n"
   ]
  },
  {
   "cell_type": "code",
   "execution_count": null,
   "id": "39051037",
   "metadata": {},
   "outputs": [],
   "source": [
    "lrdf2.score(x2_train,y2_train) "
   ]
  },
  {
   "cell_type": "code",
   "execution_count": null,
   "id": "b961917e",
   "metadata": {},
   "outputs": [],
   "source": [
    "num_data"
   ]
  },
  {
   "cell_type": "code",
   "execution_count": null,
   "id": "a29979bb",
   "metadata": {},
   "outputs": [],
   "source": [
    "# normalization or min max scaling   ( procedural method)\n",
    "df3 = (num_data - num_data.min())/(num_data.max() - num_data.min())\n",
    "df3"
   ]
  },
  {
   "cell_type": "code",
   "execution_count": null,
   "id": "45b4391d",
   "metadata": {},
   "outputs": [],
   "source": [
    "from sklearn.model_selection import train_test_split\n",
    "train3,test3=train_test_split(df3,test_size=0.25)\n"
   ]
  },
  {
   "cell_type": "code",
   "execution_count": null,
   "id": "6e8ca705",
   "metadata": {},
   "outputs": [],
   "source": [
    "x3_train = train3.drop(columns ='Sales Volume')\n",
    "y3_train = train3[['Sales Volume']]"
   ]
  },
  {
   "cell_type": "code",
   "execution_count": null,
   "id": "7ef95e37",
   "metadata": {},
   "outputs": [],
   "source": [
    "from sklearn.linear_model import LinearRegression\n",
    "lrdf3 = LinearRegression()\n",
    "lrdf3.fit(x3_train,y3_train)\n"
   ]
  },
  {
   "cell_type": "code",
   "execution_count": null,
   "id": "1cf9fae9",
   "metadata": {},
   "outputs": [],
   "source": [
    "lrdf3.score(x3_train,y3_train) "
   ]
  },
  {
   "cell_type": "code",
   "execution_count": null,
   "id": "9bc1c5c7",
   "metadata": {},
   "outputs": [],
   "source": [
    "# standardisation ( procedural method/functional method)\n",
    "df4 = (df[numcols] - df[numcols].mean())/(df[numcols].std())\n",
    "df4"
   ]
  },
  {
   "cell_type": "code",
   "execution_count": null,
   "id": "bf43dda2",
   "metadata": {},
   "outputs": [],
   "source": [
    "from sklearn.model_selection import train_test_split\n",
    "train4,test4=train_test_split(df4,test_size=0.25,stratify = df4[\"Product Position\"])\n",
    "x4_train = train4.drop(columns ='Sales Volume')\n",
    "y4_train = train4[['Sales Volume']]\n",
    "from sklearn.linear_model import LinearRegression\n",
    "lrdf4 = LinearRegression()\n",
    "lrdf4.fit(x4_train,y4_train)\n"
   ]
  },
  {
   "cell_type": "code",
   "execution_count": null,
   "id": "dd8bceb4",
   "metadata": {},
   "outputs": [],
   "source": [
    "lrdf4.score(x4_train,y4_train) "
   ]
  },
  {
   "cell_type": "code",
   "execution_count": null,
   "id": "d467a732",
   "metadata": {},
   "outputs": [],
   "source": [
    "from sklearn.linear_model import LinearRegression\n",
    "lr5 = LinearRegression()\n",
    "lr5.fit(x_train[['Price']],y_train)"
   ]
  },
  {
   "cell_type": "code",
   "execution_count": null,
   "id": "5f05fbdc",
   "metadata": {},
   "outputs": [],
   "source": [
    "lr5.score(x_train[['Price']],y_train)"
   ]
  },
  {
   "cell_type": "code",
   "execution_count": null,
   "id": "aaaa737c",
   "metadata": {},
   "outputs": [],
   "source": [
    "\n"
   ]
  },
  {
   "cell_type": "code",
   "execution_count": null,
   "id": "aab6b662",
   "metadata": {},
   "outputs": [],
   "source": []
  },
  {
   "cell_type": "code",
   "execution_count": null,
   "id": "be946f15",
   "metadata": {},
   "outputs": [],
   "source": []
  },
  {
   "cell_type": "code",
   "execution_count": null,
   "id": "7063f532",
   "metadata": {},
   "outputs": [],
   "source": []
  },
  {
   "cell_type": "code",
   "execution_count": null,
   "id": "0ba5893e",
   "metadata": {},
   "outputs": [],
   "source": []
  },
  {
   "cell_type": "code",
   "execution_count": null,
   "id": "01ff9129",
   "metadata": {},
   "outputs": [],
   "source": []
  }
 ],
 "metadata": {
  "kernelspec": {
   "display_name": "Python 3 (ipykernel)",
   "language": "python",
   "name": "python3"
  },
  "language_info": {
   "codemirror_mode": {
    "name": "ipython",
    "version": 3
   },
   "file_extension": ".py",
   "mimetype": "text/x-python",
   "name": "python",
   "nbconvert_exporter": "python",
   "pygments_lexer": "ipython3",
   "version": "3.11.5"
  }
 },
 "nbformat": 4,
 "nbformat_minor": 5
}
